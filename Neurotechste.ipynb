{
  "nbformat": 4,
  "nbformat_minor": 0,
  "metadata": {
    "colab": {
      "provenance": []
    },
    "kernelspec": {
      "name": "python3",
      "display_name": "Python 3"
    },
    "language_info": {
      "name": "python"
    }
  },
  "cells": [
    {
      "cell_type": "code",
      "execution_count": 2,
      "metadata": {
        "colab": {
          "base_uri": "https://localhost:8080/"
        },
        "id": "xQ56pTN7TIVl",
        "outputId": "26250471-2a64-4d52-f100-cc087bb08317"
      },
      "outputs": [
        {
          "output_type": "stream",
          "name": "stdout",
          "text": [
            "\u001b[2K     \u001b[90m━━━━━━━━━━━━━━━━━━━━━━━━━━━━━━━━━━━━━━━\u001b[0m \u001b[32m365.7/365.7 kB\u001b[0m \u001b[31m7.1 MB/s\u001b[0m eta \u001b[36m0:00:00\u001b[0m\n",
            "\u001b[2K     \u001b[90m━━━━━━━━━━━━━━━━━━━━━━━━━━━━━━━━━━━━━━\u001b[0m \u001b[32m224.5/224.5 kB\u001b[0m \u001b[31m16.2 MB/s\u001b[0m eta \u001b[36m0:00:00\u001b[0m\n",
            "\u001b[2K     \u001b[90m━━━━━━━━━━━━━━━━━━━━━━━━━━━━━━━━━━━━━━━━\u001b[0m \u001b[32m78.7/78.7 kB\u001b[0m \u001b[31m7.3 MB/s\u001b[0m eta \u001b[36m0:00:00\u001b[0m\n",
            "\u001b[2K     \u001b[90m━━━━━━━━━━━━━━━━━━━━━━━━━━━━━━━━━━━━━━━━\u001b[0m \u001b[32m17.7/17.7 MB\u001b[0m \u001b[31m31.4 MB/s\u001b[0m eta \u001b[36m0:00:00\u001b[0m\n",
            "\u001b[2K     \u001b[90m━━━━━━━━━━━━━━━━━━━━━━━━━━━━━━━━━━━━━━━━\u001b[0m \u001b[32m83.5/83.5 kB\u001b[0m \u001b[31m7.6 MB/s\u001b[0m eta \u001b[36m0:00:00\u001b[0m\n",
            "\u001b[?25h  Preparing metadata (setup.py) ... \u001b[?25l\u001b[?25hdone\n",
            "\u001b[2K     \u001b[90m━━━━━━━━━━━━━━━━━━━━━━━━━━━━━━━━━━━━━━\u001b[0m \u001b[32m184.3/184.3 kB\u001b[0m \u001b[31m12.0 MB/s\u001b[0m eta \u001b[36m0:00:00\u001b[0m\n",
            "\u001b[2K     \u001b[90m━━━━━━━━━━━━━━━━━━━━━━━━━━━━━━━━━━━━━━━\u001b[0m \u001b[32m148.1/148.1 kB\u001b[0m \u001b[31m8.5 MB/s\u001b[0m eta \u001b[36m0:00:00\u001b[0m\n",
            "\u001b[2K     \u001b[90m━━━━━━━━━━━━━━━━━━━━━━━━━━━━━━━━━━━━━━━━\u001b[0m \u001b[32m79.5/79.5 kB\u001b[0m \u001b[31m6.3 MB/s\u001b[0m eta \u001b[36m0:00:00\u001b[0m\n",
            "\u001b[2K     \u001b[90m━━━━━━━━━━━━━━━━━━━━━━━━━━━━━━━━━━━━━━━━\u001b[0m \u001b[32m62.7/62.7 kB\u001b[0m \u001b[31m3.9 MB/s\u001b[0m eta \u001b[36m0:00:00\u001b[0m\n",
            "\u001b[?25h  Building wheel for databricks-cli (setup.py) ... \u001b[?25l\u001b[?25hdone\n"
          ]
        }
      ],
      "source": [
        "# Import libraries\n",
        "\n",
        "import gzip\n",
        "import numpy as np\n",
        "import pandas as pd\n",
        "import matplotlib.pyplot as plt\n",
        "from sklearn.discriminant_analysis import LinearDiscriminantAnalysis\n",
        "from sklearn.preprocessing import StandardScaler\n",
        "from sklearn.preprocessing import MinMaxScaler\n",
        "from sklearn.preprocessing import RobustScaler\n",
        "from sklearn.ensemble import RandomForestClassifier\n",
        "from sklearn.model_selection import cross_validate\n",
        "from sklearn.model_selection import cross_val_score\n",
        "from sklearn.model_selection import RepeatedStratifiedKFold\n",
        "from sklearn.feature_selection import SelectPercentile\n",
        "from sklearn.metrics import roc_auc_score, confusion_matrix, accuracy_score, f1_score\n",
        "from scipy import stats\n",
        "!pip install --quiet optuna\n",
        "!pip install --quiet mlflow\n",
        "import optuna\n",
        "from sklearn.model_selection import train_test_split\n",
        "import mlflow\n",
        "from urllib.parse import urlparse\n",
        "from mlflow.tracking import MlflowClient\n",
        "from sklearn.neighbors import KNeighborsClassifier\n",
        "from sklearn.naive_bayes import GaussianNB\n",
        "from imblearn.over_sampling import SMOTE"
      ]
    },
    {
      "cell_type": "code",
      "source": [
        "# Reading files\n",
        "\n",
        "df_train = pd.DataFrame()\n",
        "df_test = pd.DataFrame()\n",
        "\n",
        "def read_files(df_train: pd.DataFrame, df_test: pd.DataFrame) -> list[pd.DataFrame]:\n",
        "  with gzip.open('train.gz', 'r') as train_file:\n",
        "    df_train = pd.read_csv(train_file)\n",
        "    print(f\"The train file contains {len(df_train)} rows\"\n",
        "    f\" and {len(df_train.columns)} columns\")\n",
        "\n",
        "  with gzip.open('test.gz', 'r') as test_file:\n",
        "    df_test = pd.read_csv(test_file)\n",
        "    print(f\"The test file contains {len(df_test)} rows\"\n",
        "    f\" and {len(df_test.columns)} columns\")\n",
        "    return [df_train, df_test]\n",
        "\n",
        "[df_train, df_test] = read_files(df_train, df_test)"
      ],
      "metadata": {
        "colab": {
          "base_uri": "https://localhost:8080/"
        },
        "id": "UX0ptUI1Wj00",
        "outputId": "762bae66-018b-48d4-f9ee-835116cf4108"
      },
      "execution_count": 3,
      "outputs": [
        {
          "output_type": "stream",
          "name": "stdout",
          "text": [
            "The train file contains 40000 rows and 1001 columns\n",
            "The test file contains 10000 rows and 1001 columns\n"
          ]
        }
      ]
    },
    {
      "cell_type": "code",
      "source": [
        "# Data treatment and cleaning\n",
        "\n",
        "def data_treatment(df: pd.DataFrame) -> pd.DataFrame:\n",
        "  # Column 'alvo' is a category\n",
        "  df['alvo'] = df['alvo'].astype('category')\n",
        "\n",
        "  # Ensure all other columns are float64\n",
        "  for index, dtype in enumerate(df.dtypes.values):\n",
        "    if dtype != 'float64' and index != 1000:\n",
        "      df[f\"var{index+1}\"] = df[f\"var{index+1}\"].astype('float64')\n",
        "\n",
        "  return df\n",
        "\n",
        "df_train = data_treatment(df_train)\n",
        "df_test  = data_treatment(df_test)\n",
        "\n",
        "def data_cleaning(df: pd.DataFrame, plot: bool=False) -> pd.DataFrame:\n",
        "  # Removing duplicate rows\n",
        "  print(f\"Size of df before removing duplicates: {len(df)}\")\n",
        "  df.drop_duplicates(keep='first', inplace=True)\n",
        "  print(f\"Size of df after removing duplicates: {len(df)}\\n\")\n",
        "  if plot:\n",
        "    # Plot columns with most missing files\n",
        "    plt.plot(range(0, len(df_train.columns[:-1])), count_missing[:-1])\n",
        "    plt.suptitle(f\"{len(df_train.columns)-1} columns with most missing values\")\n",
        "  return df\n",
        "\n",
        "df_train = data_cleaning(df_train, False)\n",
        "df_test  = data_cleaning(df_test, False)\n",
        "\n",
        "# Which columns have most missing values?\n",
        "count_missing = [0]*len(df_train.columns)\n",
        "for index, col in enumerate(df_train.columns[:-1]):\n",
        "  count_missing[index] = df_train[col].isna().sum()"
      ],
      "metadata": {
        "colab": {
          "base_uri": "https://localhost:8080/"
        },
        "id": "jvVYffhubpin",
        "outputId": "9082dfeb-d4bf-49d8-b90e-ecafddaad92e"
      },
      "execution_count": 4,
      "outputs": [
        {
          "output_type": "stream",
          "name": "stdout",
          "text": [
            "Size of df before removing duplicates: 40000\n",
            "Size of df after removing duplicates: 36096\n",
            "\n",
            "Size of df before removing duplicates: 10000\n",
            "Size of df after removing duplicates: 9237\n",
            "\n"
          ]
        }
      ]
    },
    {
      "cell_type": "code",
      "source": [
        "def normalize(df: pd.DataFrame) -> pd.DataFrame:\n",
        "  # Using RobustScaler to normalize dataset\n",
        "  scaler = RobustScaler()\n",
        "\n",
        "  target = df['alvo'].copy(deep=True)\n",
        "  variables = df.drop('alvo', axis=1, inplace=False).copy(deep=True)\n",
        "  \n",
        "  X = np.array(variables)\n",
        "  y = np.array(target)\n",
        "\n",
        "  scaler = scaler.fit_transform(variables)\n",
        "\n",
        "  # Replace with normalized\n",
        "  df = pd.DataFrame(scaler, columns=variables.columns)\n",
        "\n",
        "  # It's impossible to analyze visually 1000 box-plots (every column), \n",
        "  # we need to use a statistical approach to filter outliers:\n",
        "  # Removing rows if any columns has Z-Score greater than 2.9\n",
        "  df[(np.abs(stats.zscore(df)) < 2.9).all(axis=1)]\n",
        "\n",
        "  # Don't normalize the classes\n",
        "  df['alvo'] = target\n",
        "  return df\n",
        "\n",
        "df_train = normalize(df_train)\n",
        "df_test  = normalize(df_test)"
      ],
      "metadata": {
        "id": "mP3zL1UKKera"
      },
      "execution_count": 5,
      "outputs": []
    },
    {
      "cell_type": "code",
      "source": [
        "# Clearly some column intervals have clusters of missing values,\n",
        "# let's drop these clusters. \n",
        "# To filter these columns, I'll use average as discriminator.\n",
        "\n",
        "most_miss = []\n",
        "miss_avg  = np.average(count_missing)\n",
        "for index, value in enumerate(count_missing):\n",
        "  if value > miss_avg:\n",
        "    most_miss.append(f\"var{index+1}\")\n",
        "\n",
        "df_train.drop(axis=1, labels=most_miss, inplace=True)\n",
        "df_test.drop(axis=1, labels=most_miss, inplace=True)"
      ],
      "metadata": {
        "id": "nQy95Jd-ebJ3"
      },
      "execution_count": 6,
      "outputs": []
    },
    {
      "cell_type": "code",
      "source": [
        "# It seems we've dropped the exceding missing values.\n",
        "\n",
        "filtered_cols = []\n",
        "for col in df_train.columns[:-1]:\n",
        "  filtered_cols.append(df_train[col].isna().sum())\n",
        "\n",
        "plt.plot(range(0, len(df_train.columns[:-1])), filtered_cols)\n",
        "plt.suptitle(f\"Train dataset after removing {1000-len(df_train.columns)-1} columns\")"
      ],
      "metadata": {
        "colab": {
          "base_uri": "https://localhost:8080/",
          "height": 495
        },
        "id": "5vZKh-rPjMLa",
        "outputId": "f716fa64-213f-4f05-c397-de7c85c097e2"
      },
      "execution_count": 7,
      "outputs": [
        {
          "output_type": "execute_result",
          "data": {
            "text/plain": [
              "Text(0.5, 0.98, 'Train dataset after removing 83 columns')"
            ]
          },
          "metadata": {},
          "execution_count": 7
        },
        {
          "output_type": "display_data",
          "data": {
            "text/plain": [
              "<Figure size 640x480 with 1 Axes>"
            ],
            "image/png": "[encoded data removed]"
          },
          "metadata": {}
        }
      ]
    },
    {
      "cell_type": "code",
      "source": [
        "# Removing some rows with null data\n",
        "def remove_null_rows(df_train: pd.DataFrame, df_test: pd.DataFrame) -> list[pd.DataFrame]:\n",
        "  print(f\"The train dataset before removing null rows has {len(df_train)} rows\")\n",
        "  df_train.dropna(how='any', inplace=True)\n",
        "  print(f\"The train dataset after removing null rows has {len(df_train)} rows\\n\")\n",
        "  print(f\"The test dataset before removing null rows has {len(df_test)} rows\")\n",
        "  df_test.dropna(how='any', inplace=True)\n",
        "  print(f\"The test dataset after removing null rows has {len(df_test)} rows\")\n",
        "  return [df_train, df_test]\n",
        "\n",
        "[df_train, df_test] = remove_null_rows(df_train, df_test)"
      ],
      "metadata": {
        "colab": {
          "base_uri": "https://localhost:8080/"
        },
        "id": "Hl4l4-0JuH98",
        "outputId": "c5139992-f57e-49de-e5a9-c9fcbd3ae175"
      },
      "execution_count": 8,
      "outputs": [
        {
          "output_type": "stream",
          "name": "stdout",
          "text": [
            "The train dataset before removing null rows has 36096 rows\n",
            "The train dataset after removing null rows has 32131 rows\n",
            "\n",
            "The test dataset before removing null rows has 9237 rows\n",
            "The test dataset after removing null rows has 8407 rows\n"
          ]
        }
      ]
    },
    {
      "cell_type": "code",
      "source": [
        "target = df_train['alvo']\n",
        "variables = df_train.drop('alvo', axis=1, inplace=False)\n",
        "\n",
        "X = np.array(variables)\n",
        "y = np.array(target)\n",
        "\n",
        "# Identifying the 100 most relevant variables using LDA\n",
        "lda_clf = LinearDiscriminantAnalysis(n_components = 1)\n",
        "lda_clf.fit(X, y)\n",
        "\n",
        "# Sorting top 100 most important\n",
        "top_100_feats = sorted(\n",
        "    enumerate(\n",
        "      abs(lda_clf.coef_[0]), start=1), \n",
        "      key = lambda x: x[1]\n",
        "    )[:100]"
      ],
      "metadata": {
        "id": "s65KeH7TV2lP"
      },
      "execution_count": 9,
      "outputs": []
    },
    {
      "cell_type": "code",
      "source": [
        "top_100_feats = sorted(enumerate(abs(lda_clf.coef_[0]), start=1), key = lambda x: x[1])[:100]\n",
        "\n",
        "def remove_unused_cols(df_train: pd.DataFrame, df_test: pd.DataFrame) -> list[pd.DataFrame]:\n",
        "  # Remove columns which are not relevant according to LDA\n",
        "  remove = set()\n",
        "  remove_col = []\n",
        "  for cols in top_100_feats:\n",
        "    remove.add(cols[0])\n",
        "  remove_list = ['var'+str(col) for col in range(1,1001) if col not in remove]\n",
        "\n",
        "  for cols in most_miss:\n",
        "    if cols in remove_list:\n",
        "       remove_list.remove(cols)\n",
        "  \n",
        "  X_train = df_train.copy(deep=True)\n",
        "  X_test = df_test.copy(deep=True)\n",
        "  \n",
        "  # Also remove the y ('alvo'), but copy before removing\n",
        "  remove_list.append('alvo')\n",
        "  y_train = X_train['alvo'].copy(deep=True)\n",
        "  y_test = X_test['alvo'].copy(deep=True)\n",
        "\n",
        "  X_train.drop(labels=remove_list, axis=1, inplace=True)\n",
        "  X_test.drop(labels=remove_list, axis=1, inplace=True)\n",
        "\n",
        "  return [X_train, X_test, y_train, y_test]\n",
        "\n",
        "[X_train, X_test, y_train, y_test] = remove_unused_cols(df_train, df_test)\n",
        "\n",
        "rfc = RandomForestClassifier(max_depth=2, random_state=0)\n",
        "rfc.fit(X_train, y_train)\n",
        "y_pred = rfc.predict(X_test)\n",
        "\n",
        "X_test, X_validation, y_test, y_validation = train_test_split(X_test, y_test, test_size=0.4, random_state=0)\n",
        "\n",
        "print(\"Accuracy on training set: %f\" % rfc.score(X_train, y_train))\n",
        "print(\"Accuracy on testing set: %f\" % rfc.score(X_test, y_test))"
      ],
      "metadata": {
        "colab": {
          "base_uri": "https://localhost:8080/"
        },
        "id": "CLKAnm7bDPOG",
        "outputId": "d4a77b83-060f-43d3-c239-10b7b4551db2"
      },
      "execution_count": 18,
      "outputs": [
        {
          "output_type": "stream",
          "name": "stdout",
          "text": [
            "Accuracy on training set: 0.862096\n",
            "Accuracy on testing set: 0.870936\n"
          ]
        }
      ]
    },
    {
      "cell_type": "code",
      "source": [
        "# Oversampling class '1', since it's too small\n",
        "print(f\"Training statistics before: {(y_train.to_list().count(0))} {(y_train.to_list().count(1))}\")\n",
        "\n",
        "over_sampler = SMOTE(random_state=0)\n",
        "X_train, y_train = over_sampler.fit_resample(X_train, y_train)\n",
        "\n",
        "print(f\"Training target statistics: {(y_train.to_list().count(0))} {(y_train.to_list().count(1))}\")\n",
        "print(f\"Testing target statistics: {(y_test.to_list().count(0))} {(y_test.to_list().count(1))}\")"
      ],
      "metadata": {
        "colab": {
          "base_uri": "https://localhost:8080/"
        },
        "id": "QUi61QYYnQTS",
        "outputId": "0672adad-e972-4dac-b86a-ed6a8f4ccad7"
      },
      "execution_count": 21,
      "outputs": [
        {
          "output_type": "stream",
          "name": "stdout",
          "text": [
            "Training statistics before: 27700 4431\n",
            "Training target statistics: 27700 27700\n",
            "Testing target statistics: 4393 651\n"
          ]
        }
      ]
    },
    {
      "cell_type": "code",
      "source": [
        "def print_auto_logged_info(r):\n",
        "  tags = {k: v for k, v in r.data.tags.items() if not k.startswith(\"mlflow.\")}\n",
        "  artifacts = [f.path for f in MlflowClient().list_artifacts(r.info.run_id, \"model\")]\n",
        "  print(\"run_id: {}\".format(r.info.run_id))\n",
        "  print(\"params: {}\".format(r.data.params))\n",
        "  print(\"metrics: {}\".format(r.data.metrics))\n",
        "\n",
        "def objective(trial):\n",
        "  [X_train, X_test, y_train, y_test] = remove_unused_cols(df_train, df_test)\n",
        "  n_estimators = trial.suggest_int('n_estimators', 10, 100)\n",
        "  max_depth = trial.suggest_int('max_depth', 2, 16)\n",
        "  percentile = trial.suggest_int('percentile', 1, 10, 9)\n",
        "  criterion = trial.suggest_categorical('criterion', \n",
        "                                  {'entropy', 'log_loss', 'gini'})\n",
        "  \n",
        "  min_samples_split = trial.suggest_int('min_samples_split', 2, 20)\n",
        "\n",
        "  rf = RandomForestClassifier(n_estimators=n_estimators,\n",
        "                              criterion=criterion, \n",
        "                              min_samples_split=min_samples_split,\n",
        "                              random_state=0, max_depth=max_depth)\n",
        "\n",
        "  def confusion_matrix_scorer(y, y_pred):\n",
        "    cm = confusion_matrix(y, y_pred)\n",
        "    return cm[0][0] + cm[1][1]\n",
        "\n",
        "  with mlflow.start_run() as run:\n",
        "    rf.fit(X_train, y_train)\n",
        "    X_train = SelectPercentile(percentile=percentile).fit_transform(X_train, y_train)\n",
        "    rf_predict = rf.predict(X_test)\n",
        "\n",
        "    mlflow.log_param(\"Percentile\", percentile)\n",
        "    mlflow.log_param(\"n_estimators\", n_estimators)\n",
        "    mlflow.log_param(\"max_depth\", max_depth)\n",
        "    mlflow.log_param(\"criterion\", criterion)\n",
        "    mlflow.log_param(\"min_samples_split\", min_samples_split)\n",
        "\n",
        "    mlflow.log_metric(\"auc\", roc_auc_score(y_test, rf_predict))\n",
        "    mlflow.log_metric(\"cfm\", confusion_matrix_scorer(y_test, rf_predict))\n",
        "    mlflow.log_metric(\"acc\", accuracy_score(y_test, rf_predict))\n",
        "    mlflow.log_metric(\"f1\", f1_score(y_test, rf_predict))\n",
        "\n",
        "    tracking_url_type_store = urlparse(mlflow.get_tracking_uri()).scheme\n",
        "    if tracking_url_type_store != \"file\":\n",
        "      mlflow.sklearn.log_model(rf, \"model\", registered_model_name=\"RandomForestModel\")\n",
        "    else:\n",
        "      mlflow.sklearn.log_model(rf, \"model\")\n",
        "  print_auto_logged_info(mlflow.get_run(run_id=run.info.run_id))\n",
        "  return roc_auc_score(y_test, rf_predict)\n",
        "\n",
        "study = optuna.create_study(direction='maximize')\n",
        "study.optimize(objective, n_trials=16)\n",
        "optuna.visualization.plot_optimization_history(study)\n",
        "optuna.visualization.plot_slice(study)"
      ],
      "metadata": {
        "colab": {
          "base_uri": "https://localhost:8080/",
          "height": 1000
        },
        "id": "pR-eVNodRtqZ",
        "outputId": "02798ff4-3d84-456f-db43-388acbea0489"
      },
      "execution_count": 42,
      "outputs": [
        {
          "output_type": "stream",
          "name": "stderr",
          "text": [
            "\u001b[32m[I 2023-05-27 02:10:25,806]\u001b[0m A new study created in memory with name: no-name-7cbc4380-4833-4b88-968f-775767acee9f\u001b[0m\n",
            "\u001b[32m[I 2023-05-27 02:10:31,168]\u001b[0m Trial 0 finished with value: 0.5003682208607859 and parameters: {'n_estimators': 15, 'max_depth': 11, 'percentile': 1, 'criterion': 'log_loss', 'min_samples_split': 2}. Best is trial 0 with value: 0.5003682208607859.\u001b[0m\n"
          ]
        },
        {
          "output_type": "stream",
          "name": "stdout",
          "text": [
            "run_id: 9fc4ed170f094d1b814469af654376b0\n",
            "params: {'criterion': 'log_loss', 'min_samples_split': '2', 'n_estimators': '15', 'max_depth': '11', 'Percentile': '1'}\n",
            "metrics: {'f1': 0.0017452006980802795, 'auc': 0.5003682208607859, 'acc': 0.8639229213750446, 'cfm': 7263.0}\n"
          ]
        },
        {
          "output_type": "stream",
          "name": "stderr",
          "text": [
            "\u001b[32m[I 2023-05-27 02:10:42,915]\u001b[0m Trial 1 finished with value: 0.5003682208607859 and parameters: {'n_estimators': 66, 'max_depth': 16, 'percentile': 1, 'criterion': 'log_loss', 'min_samples_split': 2}. Best is trial 0 with value: 0.5003682208607859.\u001b[0m\n"
          ]
        },
        {
          "output_type": "stream",
          "name": "stdout",
          "text": [
            "run_id: d66af9b8b1f6463484f4d49b1d17d014\n",
            "params: {'criterion': 'log_loss', 'min_samples_split': '2', 'n_estimators': '66', 'max_depth': '16', 'Percentile': '1'}\n",
            "metrics: {'f1': 0.0017452006980802795, 'auc': 0.5003682208607859, 'acc': 0.8639229213750446, 'cfm': 7263.0}\n"
          ]
        },
        {
          "output_type": "stream",
          "name": "stderr",
          "text": [
            "\u001b[32m[I 2023-05-27 02:10:49,836]\u001b[0m Trial 2 finished with value: 0.5 and parameters: {'n_estimators': 44, 'max_depth': 5, 'percentile': 1, 'criterion': 'log_loss', 'min_samples_split': 15}. Best is trial 0 with value: 0.5003682208607859.\u001b[0m\n"
          ]
        },
        {
          "output_type": "stream",
          "name": "stdout",
          "text": [
            "run_id: a9e12eb1936a465ea0d5c5808926cf81\n",
            "params: {'criterion': 'log_loss', 'min_samples_split': '15', 'n_estimators': '44', 'max_depth': '5', 'Percentile': '1'}\n",
            "metrics: {'f1': 0.0, 'auc': 0.5, 'acc': 0.8639229213750446, 'cfm': 7263.0}\n"
          ]
        },
        {
          "output_type": "stream",
          "name": "stderr",
          "text": [
            "\u001b[32m[I 2023-05-27 02:11:00,637]\u001b[0m Trial 3 finished with value: 0.5 and parameters: {'n_estimators': 99, 'max_depth': 7, 'percentile': 10, 'criterion': 'log_loss', 'min_samples_split': 16}. Best is trial 0 with value: 0.5003682208607859.\u001b[0m\n"
          ]
        },
        {
          "output_type": "stream",
          "name": "stdout",
          "text": [
            "run_id: dbba029682b04f44a69cb39b8af0ac86\n",
            "params: {'criterion': 'log_loss', 'min_samples_split': '16', 'n_estimators': '99', 'max_depth': '7', 'Percentile': '10'}\n",
            "metrics: {'f1': 0.0, 'auc': 0.5, 'acc': 0.8639229213750446, 'cfm': 7263.0}\n"
          ]
        },
        {
          "output_type": "stream",
          "name": "stderr",
          "text": [
            "\u001b[32m[I 2023-05-27 02:11:04,952]\u001b[0m Trial 4 finished with value: 0.5 and parameters: {'n_estimators': 42, 'max_depth': 4, 'percentile': 10, 'criterion': 'gini', 'min_samples_split': 10}. Best is trial 0 with value: 0.5003682208607859.\u001b[0m\n"
          ]
        },
        {
          "output_type": "stream",
          "name": "stdout",
          "text": [
            "run_id: 0f34bf2994ec47029182f2e0476e843a\n",
            "params: {'criterion': 'gini', 'min_samples_split': '10', 'n_estimators': '42', 'max_depth': '4', 'Percentile': '10'}\n",
            "metrics: {'f1': 0.0, 'auc': 0.5, 'acc': 0.8639229213750446, 'cfm': 7263.0}\n"
          ]
        },
        {
          "output_type": "stream",
          "name": "stderr",
          "text": [
            "\u001b[32m[I 2023-05-27 02:11:16,757]\u001b[0m Trial 5 finished with value: 0.5003682208607859 and parameters: {'n_estimators': 77, 'max_depth': 12, 'percentile': 1, 'criterion': 'gini', 'min_samples_split': 7}. Best is trial 0 with value: 0.5003682208607859.\u001b[0m\n"
          ]
        },
        {
          "output_type": "stream",
          "name": "stdout",
          "text": [
            "run_id: 37c48cb589034fad9b0dfec5851ac327\n",
            "params: {'criterion': 'gini', 'min_samples_split': '7', 'n_estimators': '77', 'max_depth': '12', 'Percentile': '1'}\n",
            "metrics: {'f1': 0.0017452006980802795, 'auc': 0.5003682208607859, 'acc': 0.8639229213750446, 'cfm': 7263.0}\n"
          ]
        },
        {
          "output_type": "stream",
          "name": "stderr",
          "text": [
            "\u001b[32m[I 2023-05-27 02:11:24,936]\u001b[0m Trial 6 finished with value: 0.499931157923723 and parameters: {'n_estimators': 63, 'max_depth': 9, 'percentile': 1, 'criterion': 'gini', 'min_samples_split': 8}. Best is trial 0 with value: 0.5003682208607859.\u001b[0m\n"
          ]
        },
        {
          "output_type": "stream",
          "name": "stdout",
          "text": [
            "run_id: 1a55eba27f7f4bae87194685b7ef0d2c\n",
            "params: {'criterion': 'gini', 'min_samples_split': '8', 'n_estimators': '63', 'max_depth': '9', 'Percentile': '1'}\n",
            "metrics: {'f1': 0.0, 'auc': 0.499931157923723, 'acc': 0.8638039728797431, 'cfm': 7262.0}\n"
          ]
        },
        {
          "output_type": "stream",
          "name": "stderr",
          "text": [
            "\u001b[32m[I 2023-05-27 02:11:33,480]\u001b[0m Trial 7 finished with value: 0.5 and parameters: {'n_estimators': 46, 'max_depth': 16, 'percentile': 1, 'criterion': 'gini', 'min_samples_split': 19}. Best is trial 0 with value: 0.5003682208607859.\u001b[0m\n"
          ]
        },
        {
          "output_type": "stream",
          "name": "stdout",
          "text": [
            "run_id: 04a2b5a1680c433192508dc774d889b4\n",
            "params: {'criterion': 'gini', 'min_samples_split': '19', 'n_estimators': '46', 'max_depth': '16', 'Percentile': '1'}\n",
            "metrics: {'f1': 0.0, 'auc': 0.5, 'acc': 0.8639229213750446, 'cfm': 7263.0}\n"
          ]
        },
        {
          "output_type": "stream",
          "name": "stderr",
          "text": [
            "\u001b[32m[I 2023-05-27 02:11:43,189]\u001b[0m Trial 8 finished with value: 0.5 and parameters: {'n_estimators': 39, 'max_depth': 16, 'percentile': 10, 'criterion': 'log_loss', 'min_samples_split': 20}. Best is trial 0 with value: 0.5003682208607859.\u001b[0m\n"
          ]
        },
        {
          "output_type": "stream",
          "name": "stdout",
          "text": [
            "run_id: 33ebc3d5f310446fb8366cc14a0b90d1\n",
            "params: {'criterion': 'log_loss', 'min_samples_split': '20', 'n_estimators': '39', 'max_depth': '16', 'Percentile': '10'}\n",
            "metrics: {'f1': 0.0, 'auc': 0.5, 'acc': 0.8639229213750446, 'cfm': 7263.0}\n"
          ]
        },
        {
          "output_type": "stream",
          "name": "stderr",
          "text": [
            "\u001b[32m[I 2023-05-27 02:11:52,916]\u001b[0m Trial 9 finished with value: 0.5004370629370629 and parameters: {'n_estimators': 64, 'max_depth': 11, 'percentile': 10, 'criterion': 'entropy', 'min_samples_split': 5}. Best is trial 9 with value: 0.5004370629370629.\u001b[0m\n"
          ]
        },
        {
          "output_type": "stream",
          "name": "stdout",
          "text": [
            "run_id: 745cd041980546c39e990f1eadac0259\n",
            "params: {'criterion': 'entropy', 'min_samples_split': '5', 'n_estimators': '64', 'max_depth': '11', 'Percentile': '10'}\n",
            "metrics: {'f1': 0.0017467248908296944, 'auc': 0.5004370629370629, 'acc': 0.8640418698703461, 'cfm': 7264.0}\n"
          ]
        },
        {
          "output_type": "stream",
          "name": "stderr",
          "text": [
            "\u001b[32m[I 2023-05-27 02:11:58,122]\u001b[0m Trial 10 finished with value: 0.5 and parameters: {'n_estimators': 89, 'max_depth': 2, 'percentile': 10, 'criterion': 'entropy', 'min_samples_split': 5}. Best is trial 9 with value: 0.5004370629370629.\u001b[0m\n"
          ]
        },
        {
          "output_type": "stream",
          "name": "stdout",
          "text": [
            "run_id: 0e310122c4d245bebf080753a3b41428\n",
            "params: {'criterion': 'entropy', 'min_samples_split': '5', 'n_estimators': '89', 'max_depth': '2', 'Percentile': '10'}\n",
            "metrics: {'f1': 0.0, 'auc': 0.5, 'acc': 0.8639229213750446, 'cfm': 7263.0}\n"
          ]
        },
        {
          "output_type": "stream",
          "name": "stderr",
          "text": [
            "\u001b[32m[I 2023-05-27 02:12:01,791]\u001b[0m Trial 11 finished with value: 0.5 and parameters: {'n_estimators': 10, 'max_depth': 12, 'percentile': 10, 'criterion': 'entropy', 'min_samples_split': 2}. Best is trial 9 with value: 0.5004370629370629.\u001b[0m\n"
          ]
        },
        {
          "output_type": "stream",
          "name": "stdout",
          "text": [
            "run_id: e034255e867c4797a59ced33aef8a7d1\n",
            "params: {'criterion': 'entropy', 'min_samples_split': '2', 'n_estimators': '10', 'max_depth': '12', 'Percentile': '10'}\n",
            "metrics: {'f1': 0.0, 'auc': 0.5, 'acc': 0.8639229213750446, 'cfm': 7263.0}\n"
          ]
        },
        {
          "output_type": "stream",
          "name": "stderr",
          "text": [
            "\u001b[32m[I 2023-05-27 02:12:07,193]\u001b[0m Trial 12 finished with value: 0.5 and parameters: {'n_estimators': 16, 'max_depth': 12, 'percentile': 1, 'criterion': 'entropy', 'min_samples_split': 5}. Best is trial 9 with value: 0.5004370629370629.\u001b[0m\n"
          ]
        },
        {
          "output_type": "stream",
          "name": "stdout",
          "text": [
            "run_id: 071285682b6f43cca0237f38fdf8b6af\n",
            "params: {'criterion': 'entropy', 'min_samples_split': '5', 'n_estimators': '16', 'max_depth': '12', 'Percentile': '1'}\n",
            "metrics: {'f1': 0.0, 'auc': 0.5, 'acc': 0.8639229213750446, 'cfm': 7263.0}\n"
          ]
        },
        {
          "output_type": "stream",
          "name": "stderr",
          "text": [
            "\u001b[32m[I 2023-05-27 02:12:12,556]\u001b[0m Trial 13 finished with value: 0.49986231584744595 and parameters: {'n_estimators': 29, 'max_depth': 10, 'percentile': 10, 'criterion': 'entropy', 'min_samples_split': 4}. Best is trial 9 with value: 0.5004370629370629.\u001b[0m\n"
          ]
        },
        {
          "output_type": "stream",
          "name": "stdout",
          "text": [
            "run_id: 8240018dcd9744578940cdac4b8deaf9\n",
            "params: {'criterion': 'entropy', 'min_samples_split': '4', 'n_estimators': '29', 'max_depth': '10', 'Percentile': '10'}\n",
            "metrics: {'f1': 0.0, 'auc': 0.49986231584744595, 'acc': 0.8636850243844415, 'cfm': 7261.0}\n"
          ]
        },
        {
          "output_type": "stream",
          "name": "stderr",
          "text": [
            "\u001b[32m[I 2023-05-27 02:12:17,125]\u001b[0m Trial 14 finished with value: 0.5 and parameters: {'n_estimators': 25, 'max_depth': 9, 'percentile': 1, 'criterion': 'log_loss', 'min_samples_split': 12}. Best is trial 9 with value: 0.5004370629370629.\u001b[0m\n"
          ]
        },
        {
          "output_type": "stream",
          "name": "stdout",
          "text": [
            "run_id: f1dfeb492bd94c6cb11ab3caff71ed7e\n",
            "params: {'criterion': 'log_loss', 'min_samples_split': '12', 'n_estimators': '25', 'max_depth': '9', 'Percentile': '1'}\n",
            "metrics: {'f1': 0.0, 'auc': 0.5, 'acc': 0.8639229213750446, 'cfm': 7263.0}\n"
          ]
        },
        {
          "output_type": "stream",
          "name": "stderr",
          "text": [
            "\u001b[32m[I 2023-05-27 02:12:27,936]\u001b[0m Trial 15 finished with value: 0.5003682208607859 and parameters: {'n_estimators': 58, 'max_depth': 14, 'percentile': 10, 'criterion': 'entropy', 'min_samples_split': 8}. Best is trial 9 with value: 0.5004370629370629.\u001b[0m\n"
          ]
        },
        {
          "output_type": "stream",
          "name": "stdout",
          "text": [
            "run_id: afdaac4d5e18443c98d0ecc3d77542e6\n",
            "params: {'criterion': 'entropy', 'min_samples_split': '8', 'n_estimators': '58', 'max_depth': '14', 'Percentile': '10'}\n",
            "metrics: {'f1': 0.0017452006980802795, 'auc': 0.5003682208607859, 'acc': 0.8639229213750446, 'cfm': 7263.0}\n"
          ]
        },
        {
          "output_type": "display_data",
          "data": {
            "text/html": [
              "<html>\n",
              "<head><meta charset=\"utf-8\" /></head>\n",
              "<body>\n",
              "    <div>            <script src=\"https://cdnjs.cloudflare.com/ajax/libs/mathjax/2.7.5/MathJax.js?config=TeX-AMS-MML_SVG\"></script><script type=\"text/javascript\">if (window.MathJax && window.MathJax.Hub && window.MathJax.Hub.Config) {window.MathJax.Hub.Config({SVG: {font: \"STIX-Web\"}});}</script>                <script type=\"text/javascript\">window.PlotlyConfig = {MathJaxConfig: 'local'};</script>\n",
              "        <script src=\"https://cdn.plot.ly/plotly-2.18.2.min.js\"></script>                <div id=\"c21baa01-8de9-4a8b-ad8d-b4d8560fe15b\" class=\"plotly-graph-div\" style=\"height:525px; width:1500px;\"></div>            <script type=\"text/javascript\">                                    window.PLOTLYENV=window.PLOTLYENV || {};                                    if (document.getElementById(\"c21baa01-8de9-4a8b-ad8d-b4d8560fe15b\")) {                    Plotly.newPlot(                        \"c21baa01-8de9-4a8b-ad8d-b4d8560fe15b\",                        [{\"marker\":{\"color\":[0,1,2,3,4,5,6,7,8,9,10,11,12,13,14,15],\"colorbar\":{\"title\":{\"text\":\"Trial\"},\"x\":1.0,\"xpad\":40},\"colorscale\":[[0.0,\"rgb(247,251,255)\"],[0.125,\"rgb(222,235,247)\"],[0.25,\"rgb(198,219,239)\"],[0.375,\"rgb(158,202,225)\"],[0.5,\"rgb(107,174,214)\"],[0.625,\"rgb(66,146,198)\"],[0.75,\"rgb(33,113,181)\"],[0.875,\"rgb(8,81,156)\"],[1.0,\"rgb(8,48,107)\"]],\"line\":{\"color\":\"Grey\",\"width\":0.5},\"showscale\":true},\"mode\":\"markers\",\"showlegend\":false,\"x\":[\"log_loss\",\"log_loss\",\"log_loss\",\"log_loss\",\"gini\",\"gini\",\"gini\",\"gini\",\"log_loss\",\"entropy\",\"entropy\",\"entropy\",\"entropy\",\"entropy\",\"log_loss\",\"entropy\"],\"y\":[0.5003682208607859,0.5003682208607859,0.5,0.5,0.5,0.5003682208607859,0.499931157923723,0.5,0.5,0.5004370629370629,0.5,0.5,0.5,0.49986231584744595,0.5,0.5003682208607859],\"type\":\"scatter\",\"xaxis\":\"x\",\"yaxis\":\"y\"},{\"marker\":{\"color\":[0,1,2,3,4,5,6,7,8,9,10,11,12,13,14,15],\"colorbar\":{\"title\":{\"text\":\"Trial\"},\"x\":1.0,\"xpad\":40},\"colorscale\":[[0.0,\"rgb(247,251,255)\"],[0.125,\"rgb(222,235,247)\"],[0.25,\"rgb(198,219,239)\"],[0.375,\"rgb(158,202,225)\"],[0.5,\"rgb(107,174,214)\"],[0.625,\"rgb(66,146,198)\"],[0.75,\"rgb(33,113,181)\"],[0.875,\"rgb(8,81,156)\"],[1.0,\"rgb(8,48,107)\"]],\"line\":{\"color\":\"Grey\",\"width\":0.5},\"showscale\":false},\"mode\":\"markers\",\"showlegend\":false,\"x\":[11,16,5,7,4,12,9,16,16,11,2,12,12,10,9,14],\"y\":[0.5003682208607859,0.5003682208607859,0.5,0.5,0.5,0.5003682208607859,0.499931157923723,0.5,0.5,0.5004370629370629,0.5,0.5,0.5,0.49986231584744595,0.5,0.5003682208607859],\"type\":\"scatter\",\"xaxis\":\"x2\",\"yaxis\":\"y2\"},{\"marker\":{\"color\":[0,1,2,3,4,5,6,7,8,9,10,11,12,13,14,15],\"colorbar\":{\"title\":{\"text\":\"Trial\"},\"x\":1.0,\"xpad\":40},\"colorscale\":[[0.0,\"rgb(247,251,255)\"],[0.125,\"rgb(222,235,247)\"],[0.25,\"rgb(198,219,239)\"],[0.375,\"rgb(158,202,225)\"],[0.5,\"rgb(107,174,214)\"],[0.625,\"rgb(66,146,198)\"],[0.75,\"rgb(33,113,181)\"],[0.875,\"rgb(8,81,156)\"],[1.0,\"rgb(8,48,107)\"]],\"line\":{\"color\":\"Grey\",\"width\":0.5},\"showscale\":false},\"mode\":\"markers\",\"showlegend\":false,\"x\":[2,2,15,16,10,7,8,19,20,5,5,2,5,4,12,8],\"y\":[0.5003682208607859,0.5003682208607859,0.5,0.5,0.5,0.5003682208607859,0.499931157923723,0.5,0.5,0.5004370629370629,0.5,0.5,0.5,0.49986231584744595,0.5,0.5003682208607859],\"type\":\"scatter\",\"xaxis\":\"x3\",\"yaxis\":\"y3\"},{\"marker\":{\"color\":[0,1,2,3,4,5,6,7,8,9,10,11,12,13,14,15],\"colorbar\":{\"title\":{\"text\":\"Trial\"},\"x\":1.0,\"xpad\":40},\"colorscale\":[[0.0,\"rgb(247,251,255)\"],[0.125,\"rgb(222,235,247)\"],[0.25,\"rgb(198,219,239)\"],[0.375,\"rgb(158,202,225)\"],[0.5,\"rgb(107,174,214)\"],[0.625,\"rgb(66,146,198)\"],[0.75,\"rgb(33,113,181)\"],[0.875,\"rgb(8,81,156)\"],[1.0,\"rgb(8,48,107)\"]],\"line\":{\"color\":\"Grey\",\"width\":0.5},\"showscale\":false},\"mode\":\"markers\",\"showlegend\":false,\"x\":[15,66,44,99,42,77,63,46,39,64,89,10,16,29,25,58],\"y\":[0.5003682208607859,0.5003682208607859,0.5,0.5,0.5,0.5003682208607859,0.499931157923723,0.5,0.5,0.5004370629370629,0.5,0.5,0.5,0.49986231584744595,0.5,0.5003682208607859],\"type\":\"scatter\",\"xaxis\":\"x4\",\"yaxis\":\"y4\"},{\"marker\":{\"color\":[0,1,2,3,4,5,6,7,8,9,10,11,12,13,14,15],\"colorbar\":{\"title\":{\"text\":\"Trial\"},\"x\":1.0,\"xpad\":40},\"colorscale\":[[0.0,\"rgb(247,251,255)\"],[0.125,\"rgb(222,235,247)\"],[0.25,\"rgb(198,219,239)\"],[0.375,\"rgb(158,202,225)\"],[0.5,\"rgb(107,174,214)\"],[0.625,\"rgb(66,146,198)\"],[0.75,\"rgb(33,113,181)\"],[0.875,\"rgb(8,81,156)\"],[1.0,\"rgb(8,48,107)\"]],\"line\":{\"color\":\"Grey\",\"width\":0.5},\"showscale\":false},\"mode\":\"markers\",\"showlegend\":false,\"x\":[1,1,1,10,10,1,1,1,10,10,10,10,1,10,1,10],\"y\":[0.5003682208607859,0.5003682208607859,0.5,0.5,0.5,0.5003682208607859,0.499931157923723,0.5,0.5,0.5004370629370629,0.5,0.5,0.5,0.49986231584744595,0.5,0.5003682208607859],\"type\":\"scatter\",\"xaxis\":\"x5\",\"yaxis\":\"y5\"}],                        {\"template\":{\"data\":{\"histogram2dcontour\":[{\"type\":\"histogram2dcontour\",\"colorbar\":{\"outlinewidth\":0,\"ticks\":\"\"},\"colorscale\":[[0.0,\"#0d0887\"],[0.1111111111111111,\"#46039f\"],[0.2222222222222222,\"#7201a8\"],[0.3333333333333333,\"#9c179e\"],[0.4444444444444444,\"#bd3786\"],[0.5555555555555556,\"#d8576b\"],[0.6666666666666666,\"#ed7953\"],[0.7777777777777778,\"#fb9f3a\"],[0.8888888888888888,\"#fdca26\"],[1.0,\"#f0f921\"]]}],\"choropleth\":[{\"type\":\"choropleth\",\"colorbar\":{\"outlinewidth\":0,\"ticks\":\"\"}}],\"histogram2d\":[{\"type\":\"histogram2d\",\"colorbar\":{\"outlinewidth\":0,\"ticks\":\"\"},\"colorscale\":[[0.0,\"#0d0887\"],[0.1111111111111111,\"#46039f\"],[0.2222222222222222,\"#7201a8\"],[0.3333333333333333,\"#9c179e\"],[0.4444444444444444,\"#bd3786\"],[0.5555555555555556,\"#d8576b\"],[0.6666666666666666,\"#ed7953\"],[0.7777777777777778,\"#fb9f3a\"],[0.8888888888888888,\"#fdca26\"],[1.0,\"#f0f921\"]]}],\"heatmap\":[{\"type\":\"heatmap\",\"colorbar\":{\"outlinewidth\":0,\"ticks\":\"\"},\"colorscale\":[[0.0,\"#0d0887\"],[0.1111111111111111,\"#46039f\"],[0.2222222222222222,\"#7201a8\"],[0.3333333333333333,\"#9c179e\"],[0.4444444444444444,\"#bd3786\"],[0.5555555555555556,\"#d8576b\"],[0.6666666666666666,\"#ed7953\"],[0.7777777777777778,\"#fb9f3a\"],[0.8888888888888888,\"#fdca26\"],[1.0,\"#f0f921\"]]}],\"heatmapgl\":[{\"type\":\"heatmapgl\",\"colorbar\":{\"outlinewidth\":0,\"ticks\":\"\"},\"colorscale\":[[0.0,\"#0d0887\"],[0.1111111111111111,\"#46039f\"],[0.2222222222222222,\"#7201a8\"],[0.3333333333333333,\"#9c179e\"],[0.4444444444444444,\"#bd3786\"],[0.5555555555555556,\"#d8576b\"],[0.6666666666666666,\"#ed7953\"],[0.7777777777777778,\"#fb9f3a\"],[0.8888888888888888,\"#fdca26\"],[1.0,\"#f0f921\"]]}],\"contourcarpet\":[{\"type\":\"contourcarpet\",\"colorbar\":{\"outlinewidth\":0,\"ticks\":\"\"}}],\"contour\":[{\"type\":\"contour\",\"colorbar\":{\"outlinewidth\":0,\"ticks\":\"\"},\"colorscale\":[[0.0,\"#0d0887\"],[0.1111111111111111,\"#46039f\"],[0.2222222222222222,\"#7201a8\"],[0.3333333333333333,\"#9c179e\"],[0.4444444444444444,\"#bd3786\"],[0.5555555555555556,\"#d8576b\"],[0.6666666666666666,\"#ed7953\"],[0.7777777777777778,\"#fb9f3a\"],[0.8888888888888888,\"#fdca26\"],[1.0,\"#f0f921\"]]}],\"surface\":[{\"type\":\"surface\",\"colorbar\":{\"outlinewidth\":0,\"ticks\":\"\"},\"colorscale\":[[0.0,\"#0d0887\"],[0.1111111111111111,\"#46039f\"],[0.2222222222222222,\"#7201a8\"],[0.3333333333333333,\"#9c179e\"],[0.4444444444444444,\"#bd3786\"],[0.5555555555555556,\"#d8576b\"],[0.6666666666666666,\"#ed7953\"],[0.7777777777777778,\"#fb9f3a\"],[0.8888888888888888,\"#fdca26\"],[1.0,\"#f0f921\"]]}],\"mesh3d\":[{\"type\":\"mesh3d\",\"colorbar\":{\"outlinewidth\":0,\"ticks\":\"\"}}],\"scatter\":[{\"fillpattern\":{\"fillmode\":\"overlay\",\"size\":10,\"solidity\":0.2},\"type\":\"scatter\"}],\"parcoords\":[{\"type\":\"parcoords\",\"line\":{\"colorbar\":{\"outlinewidth\":0,\"ticks\":\"\"}}}],\"scatterpolargl\":[{\"type\":\"scatterpolargl\",\"marker\":{\"colorbar\":{\"outlinewidth\":0,\"ticks\":\"\"}}}],\"bar\":[{\"error_x\":{\"color\":\"#2a3f5f\"},\"error_y\":{\"color\":\"#2a3f5f\"},\"marker\":{\"line\":{\"color\":\"#E5ECF6\",\"width\":0.5},\"pattern\":{\"fillmode\":\"overlay\",\"size\":10,\"solidity\":0.2}},\"type\":\"bar\"}],\"scattergeo\":[{\"type\":\"scattergeo\",\"marker\":{\"colorbar\":{\"outlinewidth\":0,\"ticks\":\"\"}}}],\"scatterpolar\":[{\"type\":\"scatterpolar\",\"marker\":{\"colorbar\":{\"outlinewidth\":0,\"ticks\":\"\"}}}],\"histogram\":[{\"marker\":{\"pattern\":{\"fillmode\":\"overlay\",\"size\":10,\"solidity\":0.2}},\"type\":\"histogram\"}],\"scattergl\":[{\"type\":\"scattergl\",\"marker\":{\"colorbar\":{\"outlinewidth\":0,\"ticks\":\"\"}}}],\"scatter3d\":[{\"type\":\"scatter3d\",\"line\":{\"colorbar\":{\"outlinewidth\":0,\"ticks\":\"\"}},\"marker\":{\"colorbar\":{\"outlinewidth\":0,\"ticks\":\"\"}}}],\"scattermapbox\":[{\"type\":\"scattermapbox\",\"marker\":{\"colorbar\":{\"outlinewidth\":0,\"ticks\":\"\"}}}],\"scatterternary\":[{\"type\":\"scatterternary\",\"marker\":{\"colorbar\":{\"outlinewidth\":0,\"ticks\":\"\"}}}],\"scattercarpet\":[{\"type\":\"scattercarpet\",\"marker\":{\"colorbar\":{\"outlinewidth\":0,\"ticks\":\"\"}}}],\"carpet\":[{\"aaxis\":{\"endlinecolor\":\"#2a3f5f\",\"gridcolor\":\"white\",\"linecolor\":\"white\",\"minorgridcolor\":\"white\",\"startlinecolor\":\"#2a3f5f\"},\"baxis\":{\"endlinecolor\":\"#2a3f5f\",\"gridcolor\":\"white\",\"linecolor\":\"white\",\"minorgridcolor\":\"white\",\"startlinecolor\":\"#2a3f5f\"},\"type\":\"carpet\"}],\"table\":[{\"cells\":{\"fill\":{\"color\":\"#EBF0F8\"},\"line\":{\"color\":\"white\"}},\"header\":{\"fill\":{\"color\":\"#C8D4E3\"},\"line\":{\"color\":\"white\"}},\"type\":\"table\"}],\"barpolar\":[{\"marker\":{\"line\":{\"color\":\"#E5ECF6\",\"width\":0.5},\"pattern\":{\"fillmode\":\"overlay\",\"size\":10,\"solidity\":0.2}},\"type\":\"barpolar\"}],\"pie\":[{\"automargin\":true,\"type\":\"pie\"}]},\"layout\":{\"autotypenumbers\":\"strict\",\"colorway\":[\"#636efa\",\"#EF553B\",\"#00cc96\",\"#ab63fa\",\"#FFA15A\",\"#19d3f3\",\"#FF6692\",\"#B6E880\",\"#FF97FF\",\"#FECB52\"],\"font\":{\"color\":\"#2a3f5f\"},\"hovermode\":\"closest\",\"hoverlabel\":{\"align\":\"left\"},\"paper_bgcolor\":\"white\",\"plot_bgcolor\":\"#E5ECF6\",\"polar\":{\"bgcolor\":\"#E5ECF6\",\"angularaxis\":{\"gridcolor\":\"white\",\"linecolor\":\"white\",\"ticks\":\"\"},\"radialaxis\":{\"gridcolor\":\"white\",\"linecolor\":\"white\",\"ticks\":\"\"}},\"ternary\":{\"bgcolor\":\"#E5ECF6\",\"aaxis\":{\"gridcolor\":\"white\",\"linecolor\":\"white\",\"ticks\":\"\"},\"baxis\":{\"gridcolor\":\"white\",\"linecolor\":\"white\",\"ticks\":\"\"},\"caxis\":{\"gridcolor\":\"white\",\"linecolor\":\"white\",\"ticks\":\"\"}},\"coloraxis\":{\"colorbar\":{\"outlinewidth\":0,\"ticks\":\"\"}},\"colorscale\":{\"sequential\":[[0.0,\"#0d0887\"],[0.1111111111111111,\"#46039f\"],[0.2222222222222222,\"#7201a8\"],[0.3333333333333333,\"#9c179e\"],[0.4444444444444444,\"#bd3786\"],[0.5555555555555556,\"#d8576b\"],[0.6666666666666666,\"#ed7953\"],[0.7777777777777778,\"#fb9f3a\"],[0.8888888888888888,\"#fdca26\"],[1.0,\"#f0f921\"]],\"sequentialminus\":[[0.0,\"#0d0887\"],[0.1111111111111111,\"#46039f\"],[0.2222222222222222,\"#7201a8\"],[0.3333333333333333,\"#9c179e\"],[0.4444444444444444,\"#bd3786\"],[0.5555555555555556,\"#d8576b\"],[0.6666666666666666,\"#ed7953\"],[0.7777777777777778,\"#fb9f3a\"],[0.8888888888888888,\"#fdca26\"],[1.0,\"#f0f921\"]],\"diverging\":[[0,\"#8e0152\"],[0.1,\"#c51b7d\"],[0.2,\"#de77ae\"],[0.3,\"#f1b6da\"],[0.4,\"#fde0ef\"],[0.5,\"#f7f7f7\"],[0.6,\"#e6f5d0\"],[0.7,\"#b8e186\"],[0.8,\"#7fbc41\"],[0.9,\"#4d9221\"],[1,\"#276419\"]]},\"xaxis\":{\"gridcolor\":\"white\",\"linecolor\":\"white\",\"ticks\":\"\",\"title\":{\"standoff\":15},\"zerolinecolor\":\"white\",\"automargin\":true,\"zerolinewidth\":2},\"yaxis\":{\"gridcolor\":\"white\",\"linecolor\":\"white\",\"ticks\":\"\",\"title\":{\"standoff\":15},\"zerolinecolor\":\"white\",\"automargin\":true,\"zerolinewidth\":2},\"scene\":{\"xaxis\":{\"backgroundcolor\":\"#E5ECF6\",\"gridcolor\":\"white\",\"linecolor\":\"white\",\"showbackground\":true,\"ticks\":\"\",\"zerolinecolor\":\"white\",\"gridwidth\":2},\"yaxis\":{\"backgroundcolor\":\"#E5ECF6\",\"gridcolor\":\"white\",\"linecolor\":\"white\",\"showbackground\":true,\"ticks\":\"\",\"zerolinecolor\":\"white\",\"gridwidth\":2},\"zaxis\":{\"backgroundcolor\":\"#E5ECF6\",\"gridcolor\":\"white\",\"linecolor\":\"white\",\"showbackground\":true,\"ticks\":\"\",\"zerolinecolor\":\"white\",\"gridwidth\":2}},\"shapedefaults\":{\"line\":{\"color\":\"#2a3f5f\"}},\"annotationdefaults\":{\"arrowcolor\":\"#2a3f5f\",\"arrowhead\":0,\"arrowwidth\":1},\"geo\":{\"bgcolor\":\"white\",\"landcolor\":\"#E5ECF6\",\"subunitcolor\":\"white\",\"showland\":true,\"showlakes\":true,\"lakecolor\":\"white\"},\"title\":{\"x\":0.05},\"mapbox\":{\"style\":\"light\"}}},\"xaxis\":{\"anchor\":\"y\",\"domain\":[0.0,0.16799999999999998],\"title\":{\"text\":\"criterion\"}},\"yaxis\":{\"anchor\":\"x\",\"domain\":[0.0,1.0],\"title\":{\"text\":\"Objective Value\"}},\"xaxis2\":{\"anchor\":\"y2\",\"domain\":[0.208,0.376],\"title\":{\"text\":\"max_depth\"}},\"yaxis2\":{\"anchor\":\"x2\",\"domain\":[0.0,1.0],\"matches\":\"y\",\"showticklabels\":false},\"xaxis3\":{\"anchor\":\"y3\",\"domain\":[0.416,0.584],\"title\":{\"text\":\"min_samples_split\"}},\"yaxis3\":{\"anchor\":\"x3\",\"domain\":[0.0,1.0],\"matches\":\"y\",\"showticklabels\":false},\"xaxis4\":{\"anchor\":\"y4\",\"domain\":[0.624,0.792],\"title\":{\"text\":\"n_estimators\"}},\"yaxis4\":{\"anchor\":\"x4\",\"domain\":[0.0,1.0],\"matches\":\"y\",\"showticklabels\":false},\"xaxis5\":{\"anchor\":\"y5\",\"domain\":[0.832,1.0],\"title\":{\"text\":\"percentile\"}},\"yaxis5\":{\"anchor\":\"x5\",\"domain\":[0.0,1.0],\"matches\":\"y\",\"showticklabels\":false},\"title\":{\"text\":\"Slice Plot\"},\"width\":1500},                        {\"responsive\": true}                    ).then(function(){\n",
              "                            \n",
              "var gd = document.getElementById('c21baa01-8de9-4a8b-ad8d-b4d8560fe15b');\n",
              "var x = new MutationObserver(function (mutations, observer) {{\n",
              "        var display = window.getComputedStyle(gd).display;\n",
              "        if (!display || display === 'none') {{\n",
              "            console.log([gd, 'removed!']);\n",
              "            Plotly.purge(gd);\n",
              "            observer.disconnect();\n",
              "        }}\n",
              "}});\n",
              "\n",
              "// Listen for the removal of the full notebook cells\n",
              "var notebookContainer = gd.closest('#notebook-container');\n",
              "if (notebookContainer) {{\n",
              "    x.observe(notebookContainer, {childList: true});\n",
              "}}\n",
              "\n",
              "// Listen for the clearing of the current output cell\n",
              "var outputEl = gd.closest('.output');\n",
              "if (outputEl) {{\n",
              "    x.observe(outputEl, {childList: true});\n",
              "}}\n",
              "\n",
              "                        })                };                            </script>        </div>\n",
              "</body>\n",
              "</html>"
            ]
          },
          "metadata": {}
        }
      ]
    },
    {
      "cell_type": "code",
      "source": [
        "def objective(trial):\n",
        "  [X_train, X_test, y_train, y_test] = remove_unused_cols(df_train, df_test)\n",
        "  percentile = trial.suggest_int('percentile', 1, 10, 9)\n",
        "\n",
        "  nb = GaussianNB()\n",
        "\n",
        "  def confusion_matrix_scorer(y, y_pred):\n",
        "    cm = confusion_matrix(y, y_pred)\n",
        "    return cm[0][0] + cm[1][1]\n",
        "\n",
        "  with mlflow.start_run() as run:\n",
        "    nb.fit(X_train, y_train)\n",
        "    X_train = SelectPercentile(percentile=percentile).fit_transform(X_train, y_train)\n",
        "    nb_predict = nb.predict(X_test)\n",
        "\n",
        "    mlflow.log_param(\"Percentile\", percentile)\n",
        "\n",
        "    mlflow.log_metric(\"auc\", roc_auc_score(y_test, nb_predict))\n",
        "    mlflow.log_metric(\"cfm\", confusion_matrix_scorer(y_test, nb_predict))\n",
        "    mlflow.log_metric(\"acc\", accuracy_score(y_test, nb_predict))\n",
        "    mlflow.log_metric(\"f1\", f1_score(y_test, nb_predict))\n",
        "\n",
        "    tracking_url_type_store = urlparse(mlflow.get_tracking_uri()).scheme\n",
        "    if tracking_url_type_store != \"file\":\n",
        "      mlflow.sklearn.log_model(nb, \"model\", registered_model_name=\"GaussianNaiveBayes\")\n",
        "    else:\n",
        "      mlflow.sklearn.log_model(nb, \"model\")\n",
        "  print_auto_logged_info(mlflow.get_run(run_id=run.info.run_id))\n",
        "  return roc_auc_score(y_test, nb_predict)\n",
        "\n",
        "study = optuna.create_study(direction='maximize')\n",
        "study.optimize(objective, n_trials=32)\n",
        "optuna.visualization.plot_optimization_history(study)\n",
        "optuna.visualization.plot_slice(study)"
      ],
      "metadata": {
        "colab": {
          "base_uri": "https://localhost:8080/",
          "height": 1000
        },
        "id": "OY-2NRU4hACv",
        "outputId": "178b3be4-5ee7-4307-c041-adad32c955ec"
      },
      "execution_count": 40,
      "outputs": [
        {
          "output_type": "stream",
          "name": "stderr",
          "text": [
            "\u001b[32m[I 2023-05-27 02:07:14,014]\u001b[0m A new study created in memory with name: no-name-74bb6319-ed9a-486a-af45-360c23fa481b\u001b[0m\n",
            "\u001b[32m[I 2023-05-27 02:07:18,203]\u001b[0m Trial 0 finished with value: 0.5030705130612194 and parameters: {'percentile': 1}. Best is trial 0 with value: 0.5030705130612194.\u001b[0m\n"
          ]
        },
        {
          "output_type": "stream",
          "name": "stdout",
          "text": [
            "run_id: e9687211a60f41fc8d144636c98d50d7\n",
            "params: {'Percentile': '1'}\n",
            "metrics: {'f1': 0.05627705627705627, 'auc': 0.5030705130612194, 'acc': 0.8444153681455929, 'cfm': 7099.0}\n"
          ]
        },
        {
          "output_type": "stream",
          "name": "stderr",
          "text": [
            "\u001b[32m[I 2023-05-27 02:07:20,730]\u001b[0m Trial 1 finished with value: 0.5030705130612194 and parameters: {'percentile': 1}. Best is trial 0 with value: 0.5030705130612194.\u001b[0m\n"
          ]
        },
        {
          "output_type": "stream",
          "name": "stdout",
          "text": [
            "run_id: 6f2699ecb60c462f8ac1ad46291a1d81\n",
            "params: {'Percentile': '1'}\n",
            "metrics: {'f1': 0.05627705627705627, 'auc': 0.5030705130612194, 'acc': 0.8444153681455929, 'cfm': 7099.0}\n"
          ]
        },
        {
          "output_type": "stream",
          "name": "stderr",
          "text": [
            "\u001b[32m[I 2023-05-27 02:07:23,275]\u001b[0m Trial 2 finished with value: 0.5030705130612194 and parameters: {'percentile': 1}. Best is trial 0 with value: 0.5030705130612194.\u001b[0m\n"
          ]
        },
        {
          "output_type": "stream",
          "name": "stdout",
          "text": [
            "run_id: b623b7edc9c24215b7eae8dd9d898439\n",
            "params: {'Percentile': '1'}\n",
            "metrics: {'f1': 0.05627705627705627, 'auc': 0.5030705130612194, 'acc': 0.8444153681455929, 'cfm': 7099.0}\n"
          ]
        },
        {
          "output_type": "stream",
          "name": "stderr",
          "text": [
            "\u001b[32m[I 2023-05-27 02:07:26,621]\u001b[0m Trial 3 finished with value: 0.5030705130612194 and parameters: {'percentile': 10}. Best is trial 0 with value: 0.5030705130612194.\u001b[0m\n"
          ]
        },
        {
          "output_type": "stream",
          "name": "stdout",
          "text": [
            "run_id: 6cb6b86a2c834950abc25b813aa2580e\n",
            "params: {'Percentile': '10'}\n",
            "metrics: {'f1': 0.05627705627705627, 'auc': 0.5030705130612194, 'acc': 0.8444153681455929, 'cfm': 7099.0}\n"
          ]
        },
        {
          "output_type": "stream",
          "name": "stderr",
          "text": [
            "\u001b[32m[I 2023-05-27 02:07:30,295]\u001b[0m Trial 4 finished with value: 0.5030705130612194 and parameters: {'percentile': 10}. Best is trial 0 with value: 0.5030705130612194.\u001b[0m\n"
          ]
        },
        {
          "output_type": "stream",
          "name": "stdout",
          "text": [
            "run_id: 4b6713b50d3d4fe0a1d827a7ebf25365\n",
            "params: {'Percentile': '10'}\n",
            "metrics: {'f1': 0.05627705627705627, 'auc': 0.5030705130612194, 'acc': 0.8444153681455929, 'cfm': 7099.0}\n"
          ]
        },
        {
          "output_type": "stream",
          "name": "stderr",
          "text": [
            "\u001b[32m[I 2023-05-27 02:07:33,404]\u001b[0m Trial 5 finished with value: 0.5030705130612194 and parameters: {'percentile': 10}. Best is trial 0 with value: 0.5030705130612194.\u001b[0m\n"
          ]
        },
        {
          "output_type": "stream",
          "name": "stdout",
          "text": [
            "run_id: ee7ae824b92f42fdb4b9dd3b37b39b2c\n",
            "params: {'Percentile': '10'}\n",
            "metrics: {'f1': 0.05627705627705627, 'auc': 0.5030705130612194, 'acc': 0.8444153681455929, 'cfm': 7099.0}\n"
          ]
        },
        {
          "output_type": "stream",
          "name": "stderr",
          "text": [
            "\u001b[32m[I 2023-05-27 02:07:35,867]\u001b[0m Trial 6 finished with value: 0.5030705130612194 and parameters: {'percentile': 10}. Best is trial 0 with value: 0.5030705130612194.\u001b[0m\n"
          ]
        },
        {
          "output_type": "stream",
          "name": "stdout",
          "text": [
            "run_id: 38e3af6c6ed14871a9011f5a744a0bc5\n",
            "params: {'Percentile': '10'}\n",
            "metrics: {'f1': 0.05627705627705627, 'auc': 0.5030705130612194, 'acc': 0.8444153681455929, 'cfm': 7099.0}\n"
          ]
        },
        {
          "output_type": "stream",
          "name": "stderr",
          "text": [
            "\u001b[32m[I 2023-05-27 02:07:38,406]\u001b[0m Trial 7 finished with value: 0.5030705130612194 and parameters: {'percentile': 1}. Best is trial 0 with value: 0.5030705130612194.\u001b[0m\n"
          ]
        },
        {
          "output_type": "stream",
          "name": "stdout",
          "text": [
            "run_id: 5ea559a22670445090525d8ca2e246a4\n",
            "params: {'Percentile': '1'}\n",
            "metrics: {'f1': 0.05627705627705627, 'auc': 0.5030705130612194, 'acc': 0.8444153681455929, 'cfm': 7099.0}\n"
          ]
        },
        {
          "output_type": "stream",
          "name": "stderr",
          "text": [
            "\u001b[32m[I 2023-05-27 02:07:41,095]\u001b[0m Trial 8 finished with value: 0.5030705130612194 and parameters: {'percentile': 10}. Best is trial 0 with value: 0.5030705130612194.\u001b[0m\n"
          ]
        },
        {
          "output_type": "stream",
          "name": "stdout",
          "text": [
            "run_id: 0aabcec52c60477bbc85ebbd99b40e4e\n",
            "params: {'Percentile': '10'}\n",
            "metrics: {'f1': 0.05627705627705627, 'auc': 0.5030705130612194, 'acc': 0.8444153681455929, 'cfm': 7099.0}\n"
          ]
        },
        {
          "output_type": "stream",
          "name": "stderr",
          "text": [
            "\u001b[32m[I 2023-05-27 02:07:44,724]\u001b[0m Trial 9 finished with value: 0.5030705130612194 and parameters: {'percentile': 10}. Best is trial 0 with value: 0.5030705130612194.\u001b[0m\n"
          ]
        },
        {
          "output_type": "stream",
          "name": "stdout",
          "text": [
            "run_id: 78dfd9d105c042b8b2742b78330765e7\n",
            "params: {'Percentile': '10'}\n",
            "metrics: {'f1': 0.05627705627705627, 'auc': 0.5030705130612194, 'acc': 0.8444153681455929, 'cfm': 7099.0}\n"
          ]
        },
        {
          "output_type": "stream",
          "name": "stderr",
          "text": [
            "\u001b[32m[I 2023-05-27 02:07:47,224]\u001b[0m Trial 10 finished with value: 0.5030705130612194 and parameters: {'percentile': 1}. Best is trial 0 with value: 0.5030705130612194.\u001b[0m\n"
          ]
        },
        {
          "output_type": "stream",
          "name": "stdout",
          "text": [
            "run_id: 3625b7be05b54d17abce55256c30bceb\n",
            "params: {'Percentile': '1'}\n",
            "metrics: {'f1': 0.05627705627705627, 'auc': 0.5030705130612194, 'acc': 0.8444153681455929, 'cfm': 7099.0}\n"
          ]
        },
        {
          "output_type": "stream",
          "name": "stderr",
          "text": [
            "\u001b[32m[I 2023-05-27 02:07:49,728]\u001b[0m Trial 11 finished with value: 0.5030705130612194 and parameters: {'percentile': 1}. Best is trial 0 with value: 0.5030705130612194.\u001b[0m\n"
          ]
        },
        {
          "output_type": "stream",
          "name": "stdout",
          "text": [
            "run_id: 334b8ce2ddd041e194414da4f89433d7\n",
            "params: {'Percentile': '1'}\n",
            "metrics: {'f1': 0.05627705627705627, 'auc': 0.5030705130612194, 'acc': 0.8444153681455929, 'cfm': 7099.0}\n"
          ]
        },
        {
          "output_type": "stream",
          "name": "stderr",
          "text": [
            "\u001b[32m[I 2023-05-27 02:07:56,770]\u001b[0m Trial 12 finished with value: 0.5030705130612194 and parameters: {'percentile': 1}. Best is trial 0 with value: 0.5030705130612194.\u001b[0m\n"
          ]
        },
        {
          "output_type": "stream",
          "name": "stdout",
          "text": [
            "run_id: 88495040d5914c288285de4e9d221331\n",
            "params: {'Percentile': '1'}\n",
            "metrics: {'f1': 0.05627705627705627, 'auc': 0.5030705130612194, 'acc': 0.8444153681455929, 'cfm': 7099.0}\n"
          ]
        },
        {
          "output_type": "stream",
          "name": "stderr",
          "text": [
            "\u001b[32m[I 2023-05-27 02:08:02,073]\u001b[0m Trial 13 finished with value: 0.5030705130612194 and parameters: {'percentile': 1}. Best is trial 0 with value: 0.5030705130612194.\u001b[0m\n"
          ]
        },
        {
          "output_type": "stream",
          "name": "stdout",
          "text": [
            "run_id: e9eb7bdfd1e34d6f9476baf6b6b85bfa\n",
            "params: {'Percentile': '1'}\n",
            "metrics: {'f1': 0.05627705627705627, 'auc': 0.5030705130612194, 'acc': 0.8444153681455929, 'cfm': 7099.0}\n"
          ]
        },
        {
          "output_type": "stream",
          "name": "stderr",
          "text": [
            "\u001b[32m[I 2023-05-27 02:08:04,545]\u001b[0m Trial 14 finished with value: 0.5030705130612194 and parameters: {'percentile': 1}. Best is trial 0 with value: 0.5030705130612194.\u001b[0m\n"
          ]
        },
        {
          "output_type": "stream",
          "name": "stdout",
          "text": [
            "run_id: 13270ddd607645a8b58b566d9d5be0f9\n",
            "params: {'Percentile': '1'}\n",
            "metrics: {'f1': 0.05627705627705627, 'auc': 0.5030705130612194, 'acc': 0.8444153681455929, 'cfm': 7099.0}\n"
          ]
        },
        {
          "output_type": "stream",
          "name": "stderr",
          "text": [
            "\u001b[32m[I 2023-05-27 02:08:07,009]\u001b[0m Trial 15 finished with value: 0.5030705130612194 and parameters: {'percentile': 1}. Best is trial 0 with value: 0.5030705130612194.\u001b[0m\n"
          ]
        },
        {
          "output_type": "stream",
          "name": "stdout",
          "text": [
            "run_id: 4fe679f0bccc49858cd04c30e4dc2afd\n",
            "params: {'Percentile': '1'}\n",
            "metrics: {'f1': 0.05627705627705627, 'auc': 0.5030705130612194, 'acc': 0.8444153681455929, 'cfm': 7099.0}\n"
          ]
        },
        {
          "output_type": "stream",
          "name": "stderr",
          "text": [
            "\u001b[32m[I 2023-05-27 02:08:09,854]\u001b[0m Trial 16 finished with value: 0.5030705130612194 and parameters: {'percentile': 1}. Best is trial 0 with value: 0.5030705130612194.\u001b[0m\n"
          ]
        },
        {
          "output_type": "stream",
          "name": "stdout",
          "text": [
            "run_id: cac8776ffe874222b5dcac918534473d\n",
            "params: {'Percentile': '1'}\n",
            "metrics: {'f1': 0.05627705627705627, 'auc': 0.5030705130612194, 'acc': 0.8444153681455929, 'cfm': 7099.0}\n"
          ]
        },
        {
          "output_type": "stream",
          "name": "stderr",
          "text": [
            "\u001b[32m[I 2023-05-27 02:08:14,056]\u001b[0m Trial 17 finished with value: 0.5030705130612194 and parameters: {'percentile': 1}. Best is trial 0 with value: 0.5030705130612194.\u001b[0m\n"
          ]
        },
        {
          "output_type": "stream",
          "name": "stdout",
          "text": [
            "run_id: c9d5ada9aada4058ac4182404838b205\n",
            "params: {'Percentile': '1'}\n",
            "metrics: {'f1': 0.05627705627705627, 'auc': 0.5030705130612194, 'acc': 0.8444153681455929, 'cfm': 7099.0}\n"
          ]
        },
        {
          "output_type": "stream",
          "name": "stderr",
          "text": [
            "\u001b[32m[I 2023-05-27 02:08:17,164]\u001b[0m Trial 18 finished with value: 0.5030705130612194 and parameters: {'percentile': 1}. Best is trial 0 with value: 0.5030705130612194.\u001b[0m\n"
          ]
        },
        {
          "output_type": "stream",
          "name": "stdout",
          "text": [
            "run_id: a5db0a9a3ede4bacab24f3d75d2b4b62\n",
            "params: {'Percentile': '1'}\n",
            "metrics: {'f1': 0.05627705627705627, 'auc': 0.5030705130612194, 'acc': 0.8444153681455929, 'cfm': 7099.0}\n"
          ]
        },
        {
          "output_type": "stream",
          "name": "stderr",
          "text": [
            "\u001b[32m[I 2023-05-27 02:08:19,690]\u001b[0m Trial 19 finished with value: 0.5030705130612194 and parameters: {'percentile': 1}. Best is trial 0 with value: 0.5030705130612194.\u001b[0m\n"
          ]
        },
        {
          "output_type": "stream",
          "name": "stdout",
          "text": [
            "run_id: e9e28534edb14d72a5f9fda978edb99b\n",
            "params: {'Percentile': '1'}\n",
            "metrics: {'f1': 0.05627705627705627, 'auc': 0.5030705130612194, 'acc': 0.8444153681455929, 'cfm': 7099.0}\n"
          ]
        },
        {
          "output_type": "stream",
          "name": "stderr",
          "text": [
            "\u001b[32m[I 2023-05-27 02:08:22,207]\u001b[0m Trial 20 finished with value: 0.5030705130612194 and parameters: {'percentile': 1}. Best is trial 0 with value: 0.5030705130612194.\u001b[0m\n"
          ]
        },
        {
          "output_type": "stream",
          "name": "stdout",
          "text": [
            "run_id: 9921158daea54a2997992d61401cbdd4\n",
            "params: {'Percentile': '1'}\n",
            "metrics: {'f1': 0.05627705627705627, 'auc': 0.5030705130612194, 'acc': 0.8444153681455929, 'cfm': 7099.0}\n"
          ]
        },
        {
          "output_type": "stream",
          "name": "stderr",
          "text": [
            "\u001b[32m[I 2023-05-27 02:08:25,649]\u001b[0m Trial 21 finished with value: 0.5030705130612194 and parameters: {'percentile': 1}. Best is trial 0 with value: 0.5030705130612194.\u001b[0m\n"
          ]
        },
        {
          "output_type": "stream",
          "name": "stdout",
          "text": [
            "run_id: a26ad6b6ee6b48419d7559c5385e69b6\n",
            "params: {'Percentile': '1'}\n",
            "metrics: {'f1': 0.05627705627705627, 'auc': 0.5030705130612194, 'acc': 0.8444153681455929, 'cfm': 7099.0}\n"
          ]
        },
        {
          "output_type": "stream",
          "name": "stderr",
          "text": [
            "\u001b[32m[I 2023-05-27 02:08:29,664]\u001b[0m Trial 22 finished with value: 0.5030705130612194 and parameters: {'percentile': 1}. Best is trial 0 with value: 0.5030705130612194.\u001b[0m\n"
          ]
        },
        {
          "output_type": "stream",
          "name": "stdout",
          "text": [
            "run_id: 6d560211faf44c22b48f7b04a10ddbeb\n",
            "params: {'Percentile': '1'}\n",
            "metrics: {'f1': 0.05627705627705627, 'auc': 0.5030705130612194, 'acc': 0.8444153681455929, 'cfm': 7099.0}\n"
          ]
        },
        {
          "output_type": "stream",
          "name": "stderr",
          "text": [
            "\u001b[32m[I 2023-05-27 02:08:32,340]\u001b[0m Trial 23 finished with value: 0.5030705130612194 and parameters: {'percentile': 1}. Best is trial 0 with value: 0.5030705130612194.\u001b[0m\n"
          ]
        },
        {
          "output_type": "stream",
          "name": "stdout",
          "text": [
            "run_id: e9b3ab1d3d384e21aece65b6591517e5\n",
            "params: {'Percentile': '1'}\n",
            "metrics: {'f1': 0.05627705627705627, 'auc': 0.5030705130612194, 'acc': 0.8444153681455929, 'cfm': 7099.0}\n"
          ]
        },
        {
          "output_type": "stream",
          "name": "stderr",
          "text": [
            "\u001b[32m[I 2023-05-27 02:08:35,158]\u001b[0m Trial 24 finished with value: 0.5030705130612194 and parameters: {'percentile': 1}. Best is trial 0 with value: 0.5030705130612194.\u001b[0m\n"
          ]
        },
        {
          "output_type": "stream",
          "name": "stdout",
          "text": [
            "run_id: 03df05a96d3043db9b1f3d52d03c6149\n",
            "params: {'Percentile': '1'}\n",
            "metrics: {'f1': 0.05627705627705627, 'auc': 0.5030705130612194, 'acc': 0.8444153681455929, 'cfm': 7099.0}\n"
          ]
        },
        {
          "output_type": "stream",
          "name": "stderr",
          "text": [
            "\u001b[32m[I 2023-05-27 02:08:37,890]\u001b[0m Trial 25 finished with value: 0.5030705130612194 and parameters: {'percentile': 1}. Best is trial 0 with value: 0.5030705130612194.\u001b[0m\n"
          ]
        },
        {
          "output_type": "stream",
          "name": "stdout",
          "text": [
            "run_id: cb19fcaa81164f30b3d1ca752ef3027e\n",
            "params: {'Percentile': '1'}\n",
            "metrics: {'f1': 0.05627705627705627, 'auc': 0.5030705130612194, 'acc': 0.8444153681455929, 'cfm': 7099.0}\n"
          ]
        },
        {
          "output_type": "stream",
          "name": "stderr",
          "text": [
            "\u001b[32m[I 2023-05-27 02:08:41,290]\u001b[0m Trial 26 finished with value: 0.5030705130612194 and parameters: {'percentile': 1}. Best is trial 0 with value: 0.5030705130612194.\u001b[0m\n"
          ]
        },
        {
          "output_type": "stream",
          "name": "stdout",
          "text": [
            "run_id: 870a04813ace485480c5146ac130ba70\n",
            "params: {'Percentile': '1'}\n",
            "metrics: {'f1': 0.05627705627705627, 'auc': 0.5030705130612194, 'acc': 0.8444153681455929, 'cfm': 7099.0}\n"
          ]
        },
        {
          "output_type": "stream",
          "name": "stderr",
          "text": [
            "\u001b[32m[I 2023-05-27 02:08:44,143]\u001b[0m Trial 27 finished with value: 0.5030705130612194 and parameters: {'percentile': 1}. Best is trial 0 with value: 0.5030705130612194.\u001b[0m\n"
          ]
        },
        {
          "output_type": "stream",
          "name": "stdout",
          "text": [
            "run_id: 4f1b9184f2c84b759df27cb264c9c81c\n",
            "params: {'Percentile': '1'}\n",
            "metrics: {'f1': 0.05627705627705627, 'auc': 0.5030705130612194, 'acc': 0.8444153681455929, 'cfm': 7099.0}\n"
          ]
        },
        {
          "output_type": "stream",
          "name": "stderr",
          "text": [
            "\u001b[32m[I 2023-05-27 02:08:46,644]\u001b[0m Trial 28 finished with value: 0.5030705130612194 and parameters: {'percentile': 1}. Best is trial 0 with value: 0.5030705130612194.\u001b[0m\n"
          ]
        },
        {
          "output_type": "stream",
          "name": "stdout",
          "text": [
            "run_id: 629d4dfcedde4f4ebe371b70ca4999e0\n",
            "params: {'Percentile': '1'}\n",
            "metrics: {'f1': 0.05627705627705627, 'auc': 0.5030705130612194, 'acc': 0.8444153681455929, 'cfm': 7099.0}\n"
          ]
        },
        {
          "output_type": "stream",
          "name": "stderr",
          "text": [
            "\u001b[32m[I 2023-05-27 02:08:49,136]\u001b[0m Trial 29 finished with value: 0.5030705130612194 and parameters: {'percentile': 10}. Best is trial 0 with value: 0.5030705130612194.\u001b[0m\n"
          ]
        },
        {
          "output_type": "stream",
          "name": "stdout",
          "text": [
            "run_id: 64f69d20841a49799aefa3a04491bd00\n",
            "params: {'Percentile': '10'}\n",
            "metrics: {'f1': 0.05627705627705627, 'auc': 0.5030705130612194, 'acc': 0.8444153681455929, 'cfm': 7099.0}\n"
          ]
        },
        {
          "output_type": "stream",
          "name": "stderr",
          "text": [
            "\u001b[32m[I 2023-05-27 02:08:51,694]\u001b[0m Trial 30 finished with value: 0.5030705130612194 and parameters: {'percentile': 1}. Best is trial 0 with value: 0.5030705130612194.\u001b[0m\n"
          ]
        },
        {
          "output_type": "stream",
          "name": "stdout",
          "text": [
            "run_id: 3d076329f5cb4bd68ea66abd5a6bcb09\n",
            "params: {'Percentile': '1'}\n",
            "metrics: {'f1': 0.05627705627705627, 'auc': 0.5030705130612194, 'acc': 0.8444153681455929, 'cfm': 7099.0}\n"
          ]
        },
        {
          "output_type": "stream",
          "name": "stderr",
          "text": [
            "\u001b[32m[I 2023-05-27 02:08:55,055]\u001b[0m Trial 31 finished with value: 0.5030705130612194 and parameters: {'percentile': 10}. Best is trial 0 with value: 0.5030705130612194.\u001b[0m\n"
          ]
        },
        {
          "output_type": "stream",
          "name": "stdout",
          "text": [
            "run_id: 800571b6b4954217a50359a0022d4552\n",
            "params: {'Percentile': '10'}\n",
            "metrics: {'f1': 0.05627705627705627, 'auc': 0.5030705130612194, 'acc': 0.8444153681455929, 'cfm': 7099.0}\n"
          ]
        },
        {
          "output_type": "display_data",
          "data": {
            "text/html": [
              "<html>\n",
              "<head><meta charset=\"utf-8\" /></head>\n",
              "<body>\n",
              "    <div>            <script src=\"https://cdnjs.cloudflare.com/ajax/libs/mathjax/2.7.5/MathJax.js?config=TeX-AMS-MML_SVG\"></script><script type=\"text/javascript\">if (window.MathJax && window.MathJax.Hub && window.MathJax.Hub.Config) {window.MathJax.Hub.Config({SVG: {font: \"STIX-Web\"}});}</script>                <script type=\"text/javascript\">window.PlotlyConfig = {MathJaxConfig: 'local'};</script>\n",
              "        <script src=\"https://cdn.plot.ly/plotly-2.18.2.min.js\"></script>                <div id=\"7a4ea132-570f-4ce2-b500-6db5cc300d11\" class=\"plotly-graph-div\" style=\"height:525px; width:100%;\"></div>            <script type=\"text/javascript\">                                    window.PLOTLYENV=window.PLOTLYENV || {};                                    if (document.getElementById(\"7a4ea132-570f-4ce2-b500-6db5cc300d11\")) {                    Plotly.newPlot(                        \"7a4ea132-570f-4ce2-b500-6db5cc300d11\",                        [{\"marker\":{\"color\":[0,1,2,3,4,5,6,7,8,9,10,11,12,13,14,15,16,17,18,19,20,21,22,23,24,25,26,27,28,29,30,31],\"colorbar\":{\"title\":{\"text\":\"Trial\"},\"x\":1.0,\"xpad\":40},\"colorscale\":[[0.0,\"rgb(247,251,255)\"],[0.125,\"rgb(222,235,247)\"],[0.25,\"rgb(198,219,239)\"],[0.375,\"rgb(158,202,225)\"],[0.5,\"rgb(107,174,214)\"],[0.625,\"rgb(66,146,198)\"],[0.75,\"rgb(33,113,181)\"],[0.875,\"rgb(8,81,156)\"],[1.0,\"rgb(8,48,107)\"]],\"line\":{\"color\":\"Grey\",\"width\":0.5}},\"mode\":\"markers\",\"showlegend\":false,\"x\":[1,1,1,10,10,10,10,1,10,10,1,1,1,1,1,1,1,1,1,1,1,1,1,1,1,1,1,1,1,10,1,10],\"y\":[0.5030705130612194,0.5030705130612194,0.5030705130612194,0.5030705130612194,0.5030705130612194,0.5030705130612194,0.5030705130612194,0.5030705130612194,0.5030705130612194,0.5030705130612194,0.5030705130612194,0.5030705130612194,0.5030705130612194,0.5030705130612194,0.5030705130612194,0.5030705130612194,0.5030705130612194,0.5030705130612194,0.5030705130612194,0.5030705130612194,0.5030705130612194,0.5030705130612194,0.5030705130612194,0.5030705130612194,0.5030705130612194,0.5030705130612194,0.5030705130612194,0.5030705130612194,0.5030705130612194,0.5030705130612194,0.5030705130612194,0.5030705130612194],\"type\":\"scatter\"}],                        {\"title\":{\"text\":\"Slice Plot\"},\"template\":{\"data\":{\"histogram2dcontour\":[{\"type\":\"histogram2dcontour\",\"colorbar\":{\"outlinewidth\":0,\"ticks\":\"\"},\"colorscale\":[[0.0,\"#0d0887\"],[0.1111111111111111,\"#46039f\"],[0.2222222222222222,\"#7201a8\"],[0.3333333333333333,\"#9c179e\"],[0.4444444444444444,\"#bd3786\"],[0.5555555555555556,\"#d8576b\"],[0.6666666666666666,\"#ed7953\"],[0.7777777777777778,\"#fb9f3a\"],[0.8888888888888888,\"#fdca26\"],[1.0,\"#f0f921\"]]}],\"choropleth\":[{\"type\":\"choropleth\",\"colorbar\":{\"outlinewidth\":0,\"ticks\":\"\"}}],\"histogram2d\":[{\"type\":\"histogram2d\",\"colorbar\":{\"outlinewidth\":0,\"ticks\":\"\"},\"colorscale\":[[0.0,\"#0d0887\"],[0.1111111111111111,\"#46039f\"],[0.2222222222222222,\"#7201a8\"],[0.3333333333333333,\"#9c179e\"],[0.4444444444444444,\"#bd3786\"],[0.5555555555555556,\"#d8576b\"],[0.6666666666666666,\"#ed7953\"],[0.7777777777777778,\"#fb9f3a\"],[0.8888888888888888,\"#fdca26\"],[1.0,\"#f0f921\"]]}],\"heatmap\":[{\"type\":\"heatmap\",\"colorbar\":{\"outlinewidth\":0,\"ticks\":\"\"},\"colorscale\":[[0.0,\"#0d0887\"],[0.1111111111111111,\"#46039f\"],[0.2222222222222222,\"#7201a8\"],[0.3333333333333333,\"#9c179e\"],[0.4444444444444444,\"#bd3786\"],[0.5555555555555556,\"#d8576b\"],[0.6666666666666666,\"#ed7953\"],[0.7777777777777778,\"#fb9f3a\"],[0.8888888888888888,\"#fdca26\"],[1.0,\"#f0f921\"]]}],\"heatmapgl\":[{\"type\":\"heatmapgl\",\"colorbar\":{\"outlinewidth\":0,\"ticks\":\"\"},\"colorscale\":[[0.0,\"#0d0887\"],[0.1111111111111111,\"#46039f\"],[0.2222222222222222,\"#7201a8\"],[0.3333333333333333,\"#9c179e\"],[0.4444444444444444,\"#bd3786\"],[0.5555555555555556,\"#d8576b\"],[0.6666666666666666,\"#ed7953\"],[0.7777777777777778,\"#fb9f3a\"],[0.8888888888888888,\"#fdca26\"],[1.0,\"#f0f921\"]]}],\"contourcarpet\":[{\"type\":\"contourcarpet\",\"colorbar\":{\"outlinewidth\":0,\"ticks\":\"\"}}],\"contour\":[{\"type\":\"contour\",\"colorbar\":{\"outlinewidth\":0,\"ticks\":\"\"},\"colorscale\":[[0.0,\"#0d0887\"],[0.1111111111111111,\"#46039f\"],[0.2222222222222222,\"#7201a8\"],[0.3333333333333333,\"#9c179e\"],[0.4444444444444444,\"#bd3786\"],[0.5555555555555556,\"#d8576b\"],[0.6666666666666666,\"#ed7953\"],[0.7777777777777778,\"#fb9f3a\"],[0.8888888888888888,\"#fdca26\"],[1.0,\"#f0f921\"]]}],\"surface\":[{\"type\":\"surface\",\"colorbar\":{\"outlinewidth\":0,\"ticks\":\"\"},\"colorscale\":[[0.0,\"#0d0887\"],[0.1111111111111111,\"#46039f\"],[0.2222222222222222,\"#7201a8\"],[0.3333333333333333,\"#9c179e\"],[0.4444444444444444,\"#bd3786\"],[0.5555555555555556,\"#d8576b\"],[0.6666666666666666,\"#ed7953\"],[0.7777777777777778,\"#fb9f3a\"],[0.8888888888888888,\"#fdca26\"],[1.0,\"#f0f921\"]]}],\"mesh3d\":[{\"type\":\"mesh3d\",\"colorbar\":{\"outlinewidth\":0,\"ticks\":\"\"}}],\"scatter\":[{\"fillpattern\":{\"fillmode\":\"overlay\",\"size\":10,\"solidity\":0.2},\"type\":\"scatter\"}],\"parcoords\":[{\"type\":\"parcoords\",\"line\":{\"colorbar\":{\"outlinewidth\":0,\"ticks\":\"\"}}}],\"scatterpolargl\":[{\"type\":\"scatterpolargl\",\"marker\":{\"colorbar\":{\"outlinewidth\":0,\"ticks\":\"\"}}}],\"bar\":[{\"error_x\":{\"color\":\"#2a3f5f\"},\"error_y\":{\"color\":\"#2a3f5f\"},\"marker\":{\"line\":{\"color\":\"#E5ECF6\",\"width\":0.5},\"pattern\":{\"fillmode\":\"overlay\",\"size\":10,\"solidity\":0.2}},\"type\":\"bar\"}],\"scattergeo\":[{\"type\":\"scattergeo\",\"marker\":{\"colorbar\":{\"outlinewidth\":0,\"ticks\":\"\"}}}],\"scatterpolar\":[{\"type\":\"scatterpolar\",\"marker\":{\"colorbar\":{\"outlinewidth\":0,\"ticks\":\"\"}}}],\"histogram\":[{\"marker\":{\"pattern\":{\"fillmode\":\"overlay\",\"size\":10,\"solidity\":0.2}},\"type\":\"histogram\"}],\"scattergl\":[{\"type\":\"scattergl\",\"marker\":{\"colorbar\":{\"outlinewidth\":0,\"ticks\":\"\"}}}],\"scatter3d\":[{\"type\":\"scatter3d\",\"line\":{\"colorbar\":{\"outlinewidth\":0,\"ticks\":\"\"}},\"marker\":{\"colorbar\":{\"outlinewidth\":0,\"ticks\":\"\"}}}],\"scattermapbox\":[{\"type\":\"scattermapbox\",\"marker\":{\"colorbar\":{\"outlinewidth\":0,\"ticks\":\"\"}}}],\"scatterternary\":[{\"type\":\"scatterternary\",\"marker\":{\"colorbar\":{\"outlinewidth\":0,\"ticks\":\"\"}}}],\"scattercarpet\":[{\"type\":\"scattercarpet\",\"marker\":{\"colorbar\":{\"outlinewidth\":0,\"ticks\":\"\"}}}],\"carpet\":[{\"aaxis\":{\"endlinecolor\":\"#2a3f5f\",\"gridcolor\":\"white\",\"linecolor\":\"white\",\"minorgridcolor\":\"white\",\"startlinecolor\":\"#2a3f5f\"},\"baxis\":{\"endlinecolor\":\"#2a3f5f\",\"gridcolor\":\"white\",\"linecolor\":\"white\",\"minorgridcolor\":\"white\",\"startlinecolor\":\"#2a3f5f\"},\"type\":\"carpet\"}],\"table\":[{\"cells\":{\"fill\":{\"color\":\"#EBF0F8\"},\"line\":{\"color\":\"white\"}},\"header\":{\"fill\":{\"color\":\"#C8D4E3\"},\"line\":{\"color\":\"white\"}},\"type\":\"table\"}],\"barpolar\":[{\"marker\":{\"line\":{\"color\":\"#E5ECF6\",\"width\":0.5},\"pattern\":{\"fillmode\":\"overlay\",\"size\":10,\"solidity\":0.2}},\"type\":\"barpolar\"}],\"pie\":[{\"automargin\":true,\"type\":\"pie\"}]},\"layout\":{\"autotypenumbers\":\"strict\",\"colorway\":[\"#636efa\",\"#EF553B\",\"#00cc96\",\"#ab63fa\",\"#FFA15A\",\"#19d3f3\",\"#FF6692\",\"#B6E880\",\"#FF97FF\",\"#FECB52\"],\"font\":{\"color\":\"#2a3f5f\"},\"hovermode\":\"closest\",\"hoverlabel\":{\"align\":\"left\"},\"paper_bgcolor\":\"white\",\"plot_bgcolor\":\"#E5ECF6\",\"polar\":{\"bgcolor\":\"#E5ECF6\",\"angularaxis\":{\"gridcolor\":\"white\",\"linecolor\":\"white\",\"ticks\":\"\"},\"radialaxis\":{\"gridcolor\":\"white\",\"linecolor\":\"white\",\"ticks\":\"\"}},\"ternary\":{\"bgcolor\":\"#E5ECF6\",\"aaxis\":{\"gridcolor\":\"white\",\"linecolor\":\"white\",\"ticks\":\"\"},\"baxis\":{\"gridcolor\":\"white\",\"linecolor\":\"white\",\"ticks\":\"\"},\"caxis\":{\"gridcolor\":\"white\",\"linecolor\":\"white\",\"ticks\":\"\"}},\"coloraxis\":{\"colorbar\":{\"outlinewidth\":0,\"ticks\":\"\"}},\"colorscale\":{\"sequential\":[[0.0,\"#0d0887\"],[0.1111111111111111,\"#46039f\"],[0.2222222222222222,\"#7201a8\"],[0.3333333333333333,\"#9c179e\"],[0.4444444444444444,\"#bd3786\"],[0.5555555555555556,\"#d8576b\"],[0.6666666666666666,\"#ed7953\"],[0.7777777777777778,\"#fb9f3a\"],[0.8888888888888888,\"#fdca26\"],[1.0,\"#f0f921\"]],\"sequentialminus\":[[0.0,\"#0d0887\"],[0.1111111111111111,\"#46039f\"],[0.2222222222222222,\"#7201a8\"],[0.3333333333333333,\"#9c179e\"],[0.4444444444444444,\"#bd3786\"],[0.5555555555555556,\"#d8576b\"],[0.6666666666666666,\"#ed7953\"],[0.7777777777777778,\"#fb9f3a\"],[0.8888888888888888,\"#fdca26\"],[1.0,\"#f0f921\"]],\"diverging\":[[0,\"#8e0152\"],[0.1,\"#c51b7d\"],[0.2,\"#de77ae\"],[0.3,\"#f1b6da\"],[0.4,\"#fde0ef\"],[0.5,\"#f7f7f7\"],[0.6,\"#e6f5d0\"],[0.7,\"#b8e186\"],[0.8,\"#7fbc41\"],[0.9,\"#4d9221\"],[1,\"#276419\"]]},\"xaxis\":{\"gridcolor\":\"white\",\"linecolor\":\"white\",\"ticks\":\"\",\"title\":{\"standoff\":15},\"zerolinecolor\":\"white\",\"automargin\":true,\"zerolinewidth\":2},\"yaxis\":{\"gridcolor\":\"white\",\"linecolor\":\"white\",\"ticks\":\"\",\"title\":{\"standoff\":15},\"zerolinecolor\":\"white\",\"automargin\":true,\"zerolinewidth\":2},\"scene\":{\"xaxis\":{\"backgroundcolor\":\"#E5ECF6\",\"gridcolor\":\"white\",\"linecolor\":\"white\",\"showbackground\":true,\"ticks\":\"\",\"zerolinecolor\":\"white\",\"gridwidth\":2},\"yaxis\":{\"backgroundcolor\":\"#E5ECF6\",\"gridcolor\":\"white\",\"linecolor\":\"white\",\"showbackground\":true,\"ticks\":\"\",\"zerolinecolor\":\"white\",\"gridwidth\":2},\"zaxis\":{\"backgroundcolor\":\"#E5ECF6\",\"gridcolor\":\"white\",\"linecolor\":\"white\",\"showbackground\":true,\"ticks\":\"\",\"zerolinecolor\":\"white\",\"gridwidth\":2}},\"shapedefaults\":{\"line\":{\"color\":\"#2a3f5f\"}},\"annotationdefaults\":{\"arrowcolor\":\"#2a3f5f\",\"arrowhead\":0,\"arrowwidth\":1},\"geo\":{\"bgcolor\":\"white\",\"landcolor\":\"#E5ECF6\",\"subunitcolor\":\"white\",\"showland\":true,\"showlakes\":true,\"lakecolor\":\"white\"},\"title\":{\"x\":0.05},\"mapbox\":{\"style\":\"light\"}}},\"xaxis\":{\"title\":{\"text\":\"percentile\"}},\"yaxis\":{\"title\":{\"text\":\"Objective Value\"}}},                        {\"responsive\": true}                    ).then(function(){\n",
              "                            \n",
              "var gd = document.getElementById('7a4ea132-570f-4ce2-b500-6db5cc300d11');\n",
              "var x = new MutationObserver(function (mutations, observer) {{\n",
              "        var display = window.getComputedStyle(gd).display;\n",
              "        if (!display || display === 'none') {{\n",
              "            console.log([gd, 'removed!']);\n",
              "            Plotly.purge(gd);\n",
              "            observer.disconnect();\n",
              "        }}\n",
              "}});\n",
              "\n",
              "// Listen for the removal of the full notebook cells\n",
              "var notebookContainer = gd.closest('#notebook-container');\n",
              "if (notebookContainer) {{\n",
              "    x.observe(notebookContainer, {childList: true});\n",
              "}}\n",
              "\n",
              "// Listen for the clearing of the current output cell\n",
              "var outputEl = gd.closest('.output');\n",
              "if (outputEl) {{\n",
              "    x.observe(outputEl, {childList: true});\n",
              "}}\n",
              "\n",
              "                        })                };                            </script>        </div>\n",
              "</body>\n",
              "</html>"
            ]
          },
          "metadata": {}
        }
      ]
    },
    {
      "cell_type": "code",
      "source": [
        "study = optuna.create_study(direction='maximize')\n",
        "study.optimize(objective, n_trials=10)\n",
        "optuna.visualization.plot_optimization_history(study)\n",
        "optuna.visualization.plot_slice(study)\n",
        "\n",
        "def objective(trial):\n",
        "  [X_train, X_test, y_train, y_test] = remove_unused_cols(df_train, df_test)\n",
        "  percentile = trial.suggest_int('percentile', 1, 10, 9)\n",
        "  criterion = trial.suggest_categorical('weights', \n",
        "                                  {'uniform', 'distance'})\n",
        "  kn = KNeighborsClassifier(weights=criterion)\n",
        "\n",
        "  def confusion_matrix_scorer(y, y_pred):\n",
        "    cm = confusion_matrix(y, y_pred)\n",
        "    return cm[0][0] + cm[1][1]\n",
        "\n",
        "  with mlflow.start_run() as run:\n",
        "    X_test = SelectPercentile(percentile=percentile).fit_transform(X_test, y_test)\n",
        "    kn.fit(X_test, y_test)\n",
        "    kn_predict = kn.predict(X_test)\n",
        "\n",
        "    mlflow.log_param(\"Percentile\", percentile)\n",
        "\n",
        "    mlflow.log_metric(\"auc\", roc_auc_score(y_test, kn_predict))\n",
        "    mlflow.log_metric(\"cfm\", confusion_matrix_scorer(y_test, kn_predict))\n",
        "    mlflow.log_metric(\"acc\", accuracy_score(y_test, kn_predict))\n",
        "    mlflow.log_metric(\"f1\", f1_score(y_test, kn_predict))\n",
        "\n",
        "    tracking_url_type_store = urlparse(mlflow.get_tracking_uri()).scheme\n",
        "    if tracking_url_type_store != \"file\":\n",
        "      mlflow.sklearn.log_model(kn, \"model\", registered_model_name=\"KNearestNeighbors\")\n",
        "    else:\n",
        "      mlflow.sklearn.log_model(kn, \"model\")\n",
        "  print_auto_logged_info(mlflow.get_run(run_id=run.info.run_id))\n",
        "  return roc_auc_score(y_test, kn_predict)\n",
        "\n",
        "study = optuna.create_study(direction='maximize')\n",
        "study.optimize(objective, n_trials=16)\n",
        "optuna.visualization.plot_optimization_history(study)\n",
        "optuna.visualization.plot_slice(study)"
      ],
      "metadata": {
        "colab": {
          "base_uri": "https://localhost:8080/",
          "height": 1000
        },
        "id": "bpnA0ie-as4G",
        "outputId": "dc02f0e5-0a77-413c-e033-54891ee464d5"
      },
      "execution_count": 41,
      "outputs": [
        {
          "output_type": "stream",
          "name": "stderr",
          "text": [
            "\u001b[32m[I 2023-05-27 02:08:58,913]\u001b[0m A new study created in memory with name: no-name-aaa53414-609f-470a-8672-f44fc236c8a9\u001b[0m\n",
            "\u001b[32m[I 2023-05-27 02:09:01,462]\u001b[0m Trial 0 finished with value: 0.5030705130612194 and parameters: {'percentile': 10}. Best is trial 0 with value: 0.5030705130612194.\u001b[0m\n"
          ]
        },
        {
          "output_type": "stream",
          "name": "stdout",
          "text": [
            "run_id: 7d05f32990024c2484ee68c494f31577\n",
            "params: {'Percentile': '10'}\n",
            "metrics: {'f1': 0.05627705627705627, 'auc': 0.5030705130612194, 'acc': 0.8444153681455929, 'cfm': 7099.0}\n"
          ]
        },
        {
          "output_type": "stream",
          "name": "stderr",
          "text": [
            "\u001b[32m[I 2023-05-27 02:09:03,926]\u001b[0m Trial 1 finished with value: 0.5030705130612194 and parameters: {'percentile': 10}. Best is trial 0 with value: 0.5030705130612194.\u001b[0m\n"
          ]
        },
        {
          "output_type": "stream",
          "name": "stdout",
          "text": [
            "run_id: 423f613adc5d473eadbb7a70d1173630\n",
            "params: {'Percentile': '10'}\n",
            "metrics: {'f1': 0.05627705627705627, 'auc': 0.5030705130612194, 'acc': 0.8444153681455929, 'cfm': 7099.0}\n"
          ]
        },
        {
          "output_type": "stream",
          "name": "stderr",
          "text": [
            "\u001b[32m[I 2023-05-27 02:09:06,623]\u001b[0m Trial 2 finished with value: 0.5030705130612194 and parameters: {'percentile': 1}. Best is trial 0 with value: 0.5030705130612194.\u001b[0m\n"
          ]
        },
        {
          "output_type": "stream",
          "name": "stdout",
          "text": [
            "run_id: 6d28960fb84b46849425c50db19763e4\n",
            "params: {'Percentile': '1'}\n",
            "metrics: {'f1': 0.05627705627705627, 'auc': 0.5030705130612194, 'acc': 0.8444153681455929, 'cfm': 7099.0}\n"
          ]
        },
        {
          "output_type": "stream",
          "name": "stderr",
          "text": [
            "\u001b[32m[I 2023-05-27 02:09:10,047]\u001b[0m Trial 3 finished with value: 0.5030705130612194 and parameters: {'percentile': 1}. Best is trial 0 with value: 0.5030705130612194.\u001b[0m\n"
          ]
        },
        {
          "output_type": "stream",
          "name": "stdout",
          "text": [
            "run_id: 0776d4eeb8a64f388f6b1e77a9b253e6\n",
            "params: {'Percentile': '1'}\n",
            "metrics: {'f1': 0.05627705627705627, 'auc': 0.5030705130612194, 'acc': 0.8444153681455929, 'cfm': 7099.0}\n"
          ]
        },
        {
          "output_type": "stream",
          "name": "stderr",
          "text": [
            "\u001b[32m[I 2023-05-27 02:09:12,616]\u001b[0m Trial 4 finished with value: 0.5030705130612194 and parameters: {'percentile': 1}. Best is trial 0 with value: 0.5030705130612194.\u001b[0m\n"
          ]
        },
        {
          "output_type": "stream",
          "name": "stdout",
          "text": [
            "run_id: f3ac558415784f20a5929a0a85a24925\n",
            "params: {'Percentile': '1'}\n",
            "metrics: {'f1': 0.05627705627705627, 'auc': 0.5030705130612194, 'acc': 0.8444153681455929, 'cfm': 7099.0}\n"
          ]
        },
        {
          "output_type": "stream",
          "name": "stderr",
          "text": [
            "\u001b[32m[I 2023-05-27 02:09:15,088]\u001b[0m Trial 5 finished with value: 0.5030705130612194 and parameters: {'percentile': 1}. Best is trial 0 with value: 0.5030705130612194.\u001b[0m\n"
          ]
        },
        {
          "output_type": "stream",
          "name": "stdout",
          "text": [
            "run_id: c44409cd12d54d70bbe26dcce57de128\n",
            "params: {'Percentile': '1'}\n",
            "metrics: {'f1': 0.05627705627705627, 'auc': 0.5030705130612194, 'acc': 0.8444153681455929, 'cfm': 7099.0}\n"
          ]
        },
        {
          "output_type": "stream",
          "name": "stderr",
          "text": [
            "\u001b[32m[I 2023-05-27 02:09:17,575]\u001b[0m Trial 6 finished with value: 0.5030705130612194 and parameters: {'percentile': 10}. Best is trial 0 with value: 0.5030705130612194.\u001b[0m\n"
          ]
        },
        {
          "output_type": "stream",
          "name": "stdout",
          "text": [
            "run_id: 55183e5ddf4f4a918b08c0d791f6219e\n",
            "params: {'Percentile': '10'}\n",
            "metrics: {'f1': 0.05627705627705627, 'auc': 0.5030705130612194, 'acc': 0.8444153681455929, 'cfm': 7099.0}\n"
          ]
        },
        {
          "output_type": "stream",
          "name": "stderr",
          "text": [
            "\u001b[32m[I 2023-05-27 02:09:20,194]\u001b[0m Trial 7 finished with value: 0.5030705130612194 and parameters: {'percentile': 10}. Best is trial 0 with value: 0.5030705130612194.\u001b[0m\n"
          ]
        },
        {
          "output_type": "stream",
          "name": "stdout",
          "text": [
            "run_id: 91ed6e657bff444690b5078201a0a7c6\n",
            "params: {'Percentile': '10'}\n",
            "metrics: {'f1': 0.05627705627705627, 'auc': 0.5030705130612194, 'acc': 0.8444153681455929, 'cfm': 7099.0}\n"
          ]
        },
        {
          "output_type": "stream",
          "name": "stderr",
          "text": [
            "\u001b[32m[I 2023-05-27 02:09:23,592]\u001b[0m Trial 8 finished with value: 0.5030705130612194 and parameters: {'percentile': 1}. Best is trial 0 with value: 0.5030705130612194.\u001b[0m\n"
          ]
        },
        {
          "output_type": "stream",
          "name": "stdout",
          "text": [
            "run_id: efdc52ea4cb74ea2be681b10b0b9a78d\n",
            "params: {'Percentile': '1'}\n",
            "metrics: {'f1': 0.05627705627705627, 'auc': 0.5030705130612194, 'acc': 0.8444153681455929, 'cfm': 7099.0}\n"
          ]
        },
        {
          "output_type": "stream",
          "name": "stderr",
          "text": [
            "\u001b[32m[I 2023-05-27 02:09:26,148]\u001b[0m Trial 9 finished with value: 0.5030705130612194 and parameters: {'percentile': 10}. Best is trial 0 with value: 0.5030705130612194.\u001b[0m\n",
            "\u001b[32m[I 2023-05-27 02:09:26,165]\u001b[0m A new study created in memory with name: no-name-07e3e603-2a1c-4bb3-827e-e7521cac8026\u001b[0m\n"
          ]
        },
        {
          "output_type": "stream",
          "name": "stdout",
          "text": [
            "run_id: 124708a5019e480dac6c1b9163ea0860\n",
            "params: {'Percentile': '10'}\n",
            "metrics: {'f1': 0.05627705627705627, 'auc': 0.5030705130612194, 'acc': 0.8444153681455929, 'cfm': 7099.0}\n"
          ]
        },
        {
          "output_type": "stream",
          "name": "stderr",
          "text": [
            "\u001b[32m[I 2023-05-27 02:09:28,680]\u001b[0m Trial 0 finished with value: 0.49912533253611324 and parameters: {'percentile': 1, 'weights': 'distance'}. Best is trial 0 with value: 0.49912533253611324.\u001b[0m\n"
          ]
        },
        {
          "output_type": "stream",
          "name": "stdout",
          "text": [
            "run_id: c72038d797c44a318e26ca2aa3b1b015\n",
            "params: {'Percentile': '1'}\n",
            "metrics: {'f1': 0.1215311004784689, 'auc': 0.49912533253611324, 'acc': 0.7816105626263827, 'cfm': 6571.0}\n"
          ]
        },
        {
          "output_type": "stream",
          "name": "stderr",
          "text": [
            "\u001b[32m[I 2023-05-27 02:09:31,236]\u001b[0m Trial 1 finished with value: 0.5486852487317171 and parameters: {'percentile': 10, 'weights': 'distance'}. Best is trial 1 with value: 0.5486852487317171.\u001b[0m\n"
          ]
        },
        {
          "output_type": "stream",
          "name": "stdout",
          "text": [
            "run_id: c9138fe3a6044888af41f5b3b560e6b0\n",
            "params: {'Percentile': '10'}\n",
            "metrics: {'f1': 0.18250377073906485, 'auc': 0.5486852487317171, 'acc': 0.8710598310931367, 'cfm': 7323.0}\n"
          ]
        },
        {
          "output_type": "stream",
          "name": "stderr",
          "text": [
            "\u001b[32m[I 2023-05-27 02:09:34,251]\u001b[0m Trial 2 finished with value: 0.49912533253611324 and parameters: {'percentile': 1, 'weights': 'uniform'}. Best is trial 1 with value: 0.5486852487317171.\u001b[0m\n"
          ]
        },
        {
          "output_type": "stream",
          "name": "stdout",
          "text": [
            "run_id: 56c1b4baa2484d9cae8a031c8990db28\n",
            "params: {'Percentile': '1'}\n",
            "metrics: {'f1': 0.1215311004784689, 'auc': 0.49912533253611324, 'acc': 0.7816105626263827, 'cfm': 6571.0}\n"
          ]
        },
        {
          "output_type": "stream",
          "name": "stderr",
          "text": [
            "\u001b[32m[I 2023-05-27 02:09:37,811]\u001b[0m Trial 3 finished with value: 0.49912533253611324 and parameters: {'percentile': 1, 'weights': 'uniform'}. Best is trial 1 with value: 0.5486852487317171.\u001b[0m\n"
          ]
        },
        {
          "output_type": "stream",
          "name": "stdout",
          "text": [
            "run_id: a7aa717381fe4a1a8c5e8fa3a0088f2d\n",
            "params: {'Percentile': '1'}\n",
            "metrics: {'f1': 0.1215311004784689, 'auc': 0.49912533253611324, 'acc': 0.7816105626263827, 'cfm': 6571.0}\n"
          ]
        },
        {
          "output_type": "stream",
          "name": "stderr",
          "text": [
            "\u001b[32m[I 2023-05-27 02:09:40,602]\u001b[0m Trial 4 finished with value: 0.5275237120032659 and parameters: {'percentile': 10, 'weights': 'uniform'}. Best is trial 1 with value: 0.5486852487317171.\u001b[0m\n"
          ]
        },
        {
          "output_type": "stream",
          "name": "stdout",
          "text": [
            "run_id: 303e6b47bd434d699686b0489a57817e\n",
            "params: {'Percentile': '10'}\n",
            "metrics: {'f1': 0.11490683229813664, 'auc': 0.5275237120032659, 'acc': 0.8643987153562508, 'cfm': 7267.0}\n"
          ]
        },
        {
          "output_type": "stream",
          "name": "stderr",
          "text": [
            "\u001b[32m[I 2023-05-27 02:09:43,362]\u001b[0m Trial 5 finished with value: 0.49912533253611324 and parameters: {'percentile': 1, 'weights': 'uniform'}. Best is trial 1 with value: 0.5486852487317171.\u001b[0m\n"
          ]
        },
        {
          "output_type": "stream",
          "name": "stdout",
          "text": [
            "run_id: 942170910bd747d48016f30817b8c946\n",
            "params: {'Percentile': '1'}\n",
            "metrics: {'f1': 0.1215311004784689, 'auc': 0.49912533253611324, 'acc': 0.7816105626263827, 'cfm': 6571.0}\n"
          ]
        },
        {
          "output_type": "stream",
          "name": "stderr",
          "text": [
            "\u001b[32m[I 2023-05-27 02:09:46,088]\u001b[0m Trial 6 finished with value: 0.5275237120032659 and parameters: {'percentile': 10, 'weights': 'uniform'}. Best is trial 1 with value: 0.5486852487317171.\u001b[0m\n"
          ]
        },
        {
          "output_type": "stream",
          "name": "stdout",
          "text": [
            "run_id: a0b0ca191f3b4683b7aa1546dd12c324\n",
            "params: {'Percentile': '10'}\n",
            "metrics: {'f1': 0.11490683229813664, 'auc': 0.5275237120032659, 'acc': 0.8643987153562508, 'cfm': 7267.0}\n"
          ]
        },
        {
          "output_type": "stream",
          "name": "stderr",
          "text": [
            "\u001b[32m[I 2023-05-27 02:09:50,776]\u001b[0m Trial 7 finished with value: 0.49912533253611324 and parameters: {'percentile': 1, 'weights': 'distance'}. Best is trial 1 with value: 0.5486852487317171.\u001b[0m\n"
          ]
        },
        {
          "output_type": "stream",
          "name": "stdout",
          "text": [
            "run_id: 7285d09bc3c6412f960f3dc36edaa448\n",
            "params: {'Percentile': '1'}\n",
            "metrics: {'f1': 0.1215311004784689, 'auc': 0.49912533253611324, 'acc': 0.7816105626263827, 'cfm': 6571.0}\n"
          ]
        },
        {
          "output_type": "stream",
          "name": "stderr",
          "text": [
            "\u001b[32m[I 2023-05-27 02:09:53,356]\u001b[0m Trial 8 finished with value: 0.49912533253611324 and parameters: {'percentile': 1, 'weights': 'distance'}. Best is trial 1 with value: 0.5486852487317171.\u001b[0m\n"
          ]
        },
        {
          "output_type": "stream",
          "name": "stdout",
          "text": [
            "run_id: aebca6beac674d1ea4dda62fb992ca68\n",
            "params: {'Percentile': '1'}\n",
            "metrics: {'f1': 0.1215311004784689, 'auc': 0.49912533253611324, 'acc': 0.7816105626263827, 'cfm': 6571.0}\n"
          ]
        },
        {
          "output_type": "stream",
          "name": "stderr",
          "text": [
            "\u001b[32m[I 2023-05-27 02:09:56,178]\u001b[0m Trial 9 finished with value: 0.5275237120032659 and parameters: {'percentile': 10, 'weights': 'uniform'}. Best is trial 1 with value: 0.5486852487317171.\u001b[0m\n"
          ]
        },
        {
          "output_type": "stream",
          "name": "stdout",
          "text": [
            "run_id: 609e5a8d35ee40219e61d1723ef5a240\n",
            "params: {'Percentile': '10'}\n",
            "metrics: {'f1': 0.11490683229813664, 'auc': 0.5275237120032659, 'acc': 0.8643987153562508, 'cfm': 7267.0}\n"
          ]
        },
        {
          "output_type": "stream",
          "name": "stderr",
          "text": [
            "\u001b[32m[I 2023-05-27 02:09:58,795]\u001b[0m Trial 10 finished with value: 0.5486852487317171 and parameters: {'percentile': 10, 'weights': 'distance'}. Best is trial 1 with value: 0.5486852487317171.\u001b[0m\n"
          ]
        },
        {
          "output_type": "stream",
          "name": "stdout",
          "text": [
            "run_id: aceaf55f50b94fa8a434b9f21a05acdd\n",
            "params: {'Percentile': '10'}\n",
            "metrics: {'f1': 0.18250377073906485, 'auc': 0.5486852487317171, 'acc': 0.8710598310931367, 'cfm': 7323.0}\n"
          ]
        },
        {
          "output_type": "stream",
          "name": "stderr",
          "text": [
            "\u001b[32m[I 2023-05-27 02:10:01,548]\u001b[0m Trial 11 finished with value: 0.5486852487317171 and parameters: {'percentile': 10, 'weights': 'distance'}. Best is trial 1 with value: 0.5486852487317171.\u001b[0m\n"
          ]
        },
        {
          "output_type": "stream",
          "name": "stdout",
          "text": [
            "run_id: f32893111dbc4dc4b816305bb082a311\n",
            "params: {'Percentile': '10'}\n",
            "metrics: {'f1': 0.18250377073906485, 'auc': 0.5486852487317171, 'acc': 0.8710598310931367, 'cfm': 7323.0}\n"
          ]
        },
        {
          "output_type": "stream",
          "name": "stderr",
          "text": [
            "\u001b[32m[I 2023-05-27 02:10:05,207]\u001b[0m Trial 12 finished with value: 0.5486852487317171 and parameters: {'percentile': 10, 'weights': 'distance'}. Best is trial 1 with value: 0.5486852487317171.\u001b[0m\n"
          ]
        },
        {
          "output_type": "stream",
          "name": "stdout",
          "text": [
            "run_id: 26f034d0ae5240fd84da0a4af00f6994\n",
            "params: {'Percentile': '10'}\n",
            "metrics: {'f1': 0.18250377073906485, 'auc': 0.5486852487317171, 'acc': 0.8710598310931367, 'cfm': 7323.0}\n"
          ]
        },
        {
          "output_type": "stream",
          "name": "stderr",
          "text": [
            "\u001b[32m[I 2023-05-27 02:10:07,828]\u001b[0m Trial 13 finished with value: 0.5486852487317171 and parameters: {'percentile': 10, 'weights': 'distance'}. Best is trial 1 with value: 0.5486852487317171.\u001b[0m\n"
          ]
        },
        {
          "output_type": "stream",
          "name": "stdout",
          "text": [
            "run_id: e28918990a624e3bbcb351c7927e4015\n",
            "params: {'Percentile': '10'}\n",
            "metrics: {'f1': 0.18250377073906485, 'auc': 0.5486852487317171, 'acc': 0.8710598310931367, 'cfm': 7323.0}\n"
          ]
        },
        {
          "output_type": "stream",
          "name": "stderr",
          "text": [
            "\u001b[32m[I 2023-05-27 02:10:10,429]\u001b[0m Trial 14 finished with value: 0.5486852487317171 and parameters: {'percentile': 10, 'weights': 'distance'}. Best is trial 1 with value: 0.5486852487317171.\u001b[0m\n"
          ]
        },
        {
          "output_type": "stream",
          "name": "stdout",
          "text": [
            "run_id: aeea2dc45ea24834b8ec068d89b4bf46\n",
            "params: {'Percentile': '10'}\n",
            "metrics: {'f1': 0.18250377073906485, 'auc': 0.5486852487317171, 'acc': 0.8710598310931367, 'cfm': 7323.0}\n"
          ]
        },
        {
          "output_type": "stream",
          "name": "stderr",
          "text": [
            "\u001b[32m[I 2023-05-27 02:10:13,016]\u001b[0m Trial 15 finished with value: 0.5486852487317171 and parameters: {'percentile': 10, 'weights': 'distance'}. Best is trial 1 with value: 0.5486852487317171.\u001b[0m\n"
          ]
        },
        {
          "output_type": "stream",
          "name": "stdout",
          "text": [
            "run_id: 8202e5160cd84e98ae4eeafd2e66e129\n",
            "params: {'Percentile': '10'}\n",
            "metrics: {'f1': 0.18250377073906485, 'auc': 0.5486852487317171, 'acc': 0.8710598310931367, 'cfm': 7323.0}\n"
          ]
        },
        {
          "output_type": "display_data",
          "data": {
            "text/html": [
              "<html>\n",
              "<head><meta charset=\"utf-8\" /></head>\n",
              "<body>\n",
              "    <div>            <script src=\"https://cdnjs.cloudflare.com/ajax/libs/mathjax/2.7.5/MathJax.js?config=TeX-AMS-MML_SVG\"></script><script type=\"text/javascript\">if (window.MathJax && window.MathJax.Hub && window.MathJax.Hub.Config) {window.MathJax.Hub.Config({SVG: {font: \"STIX-Web\"}});}</script>                <script type=\"text/javascript\">window.PlotlyConfig = {MathJaxConfig: 'local'};</script>\n",
              "        <script src=\"https://cdn.plot.ly/plotly-2.18.2.min.js\"></script>                <div id=\"bf4fa809-a5eb-4644-8bfb-f1f3acb0bc5b\" class=\"plotly-graph-div\" style=\"height:525px; width:100%;\"></div>            <script type=\"text/javascript\">                                    window.PLOTLYENV=window.PLOTLYENV || {};                                    if (document.getElementById(\"bf4fa809-a5eb-4644-8bfb-f1f3acb0bc5b\")) {                    Plotly.newPlot(                        \"bf4fa809-a5eb-4644-8bfb-f1f3acb0bc5b\",                        [{\"marker\":{\"color\":[0,1,2,3,4,5,6,7,8,9,10,11,12,13,14,15],\"colorbar\":{\"title\":{\"text\":\"Trial\"},\"x\":1.0,\"xpad\":40},\"colorscale\":[[0.0,\"rgb(247,251,255)\"],[0.125,\"rgb(222,235,247)\"],[0.25,\"rgb(198,219,239)\"],[0.375,\"rgb(158,202,225)\"],[0.5,\"rgb(107,174,214)\"],[0.625,\"rgb(66,146,198)\"],[0.75,\"rgb(33,113,181)\"],[0.875,\"rgb(8,81,156)\"],[1.0,\"rgb(8,48,107)\"]],\"line\":{\"color\":\"Grey\",\"width\":0.5},\"showscale\":true},\"mode\":\"markers\",\"showlegend\":false,\"x\":[1,10,1,1,10,1,10,1,1,10,10,10,10,10,10,10],\"y\":[0.49912533253611324,0.5486852487317171,0.49912533253611324,0.49912533253611324,0.5275237120032659,0.49912533253611324,0.5275237120032659,0.49912533253611324,0.49912533253611324,0.5275237120032659,0.5486852487317171,0.5486852487317171,0.5486852487317171,0.5486852487317171,0.5486852487317171,0.5486852487317171],\"type\":\"scatter\",\"xaxis\":\"x\",\"yaxis\":\"y\"},{\"marker\":{\"color\":[0,1,2,3,4,5,6,7,8,9,10,11,12,13,14,15],\"colorbar\":{\"title\":{\"text\":\"Trial\"},\"x\":1.0,\"xpad\":40},\"colorscale\":[[0.0,\"rgb(247,251,255)\"],[0.125,\"rgb(222,235,247)\"],[0.25,\"rgb(198,219,239)\"],[0.375,\"rgb(158,202,225)\"],[0.5,\"rgb(107,174,214)\"],[0.625,\"rgb(66,146,198)\"],[0.75,\"rgb(33,113,181)\"],[0.875,\"rgb(8,81,156)\"],[1.0,\"rgb(8,48,107)\"]],\"line\":{\"color\":\"Grey\",\"width\":0.5},\"showscale\":false},\"mode\":\"markers\",\"showlegend\":false,\"x\":[\"distance\",\"distance\",\"uniform\",\"uniform\",\"uniform\",\"uniform\",\"uniform\",\"distance\",\"distance\",\"uniform\",\"distance\",\"distance\",\"distance\",\"distance\",\"distance\",\"distance\"],\"y\":[0.49912533253611324,0.5486852487317171,0.49912533253611324,0.49912533253611324,0.5275237120032659,0.49912533253611324,0.5275237120032659,0.49912533253611324,0.49912533253611324,0.5275237120032659,0.5486852487317171,0.5486852487317171,0.5486852487317171,0.5486852487317171,0.5486852487317171,0.5486852487317171],\"type\":\"scatter\",\"xaxis\":\"x2\",\"yaxis\":\"y2\"}],                        {\"template\":{\"data\":{\"histogram2dcontour\":[{\"type\":\"histogram2dcontour\",\"colorbar\":{\"outlinewidth\":0,\"ticks\":\"\"},\"colorscale\":[[0.0,\"#0d0887\"],[0.1111111111111111,\"#46039f\"],[0.2222222222222222,\"#7201a8\"],[0.3333333333333333,\"#9c179e\"],[0.4444444444444444,\"#bd3786\"],[0.5555555555555556,\"#d8576b\"],[0.6666666666666666,\"#ed7953\"],[0.7777777777777778,\"#fb9f3a\"],[0.8888888888888888,\"#fdca26\"],[1.0,\"#f0f921\"]]}],\"choropleth\":[{\"type\":\"choropleth\",\"colorbar\":{\"outlinewidth\":0,\"ticks\":\"\"}}],\"histogram2d\":[{\"type\":\"histogram2d\",\"colorbar\":{\"outlinewidth\":0,\"ticks\":\"\"},\"colorscale\":[[0.0,\"#0d0887\"],[0.1111111111111111,\"#46039f\"],[0.2222222222222222,\"#7201a8\"],[0.3333333333333333,\"#9c179e\"],[0.4444444444444444,\"#bd3786\"],[0.5555555555555556,\"#d8576b\"],[0.6666666666666666,\"#ed7953\"],[0.7777777777777778,\"#fb9f3a\"],[0.8888888888888888,\"#fdca26\"],[1.0,\"#f0f921\"]]}],\"heatmap\":[{\"type\":\"heatmap\",\"colorbar\":{\"outlinewidth\":0,\"ticks\":\"\"},\"colorscale\":[[0.0,\"#0d0887\"],[0.1111111111111111,\"#46039f\"],[0.2222222222222222,\"#7201a8\"],[0.3333333333333333,\"#9c179e\"],[0.4444444444444444,\"#bd3786\"],[0.5555555555555556,\"#d8576b\"],[0.6666666666666666,\"#ed7953\"],[0.7777777777777778,\"#fb9f3a\"],[0.8888888888888888,\"#fdca26\"],[1.0,\"#f0f921\"]]}],\"heatmapgl\":[{\"type\":\"heatmapgl\",\"colorbar\":{\"outlinewidth\":0,\"ticks\":\"\"},\"colorscale\":[[0.0,\"#0d0887\"],[0.1111111111111111,\"#46039f\"],[0.2222222222222222,\"#7201a8\"],[0.3333333333333333,\"#9c179e\"],[0.4444444444444444,\"#bd3786\"],[0.5555555555555556,\"#d8576b\"],[0.6666666666666666,\"#ed7953\"],[0.7777777777777778,\"#fb9f3a\"],[0.8888888888888888,\"#fdca26\"],[1.0,\"#f0f921\"]]}],\"contourcarpet\":[{\"type\":\"contourcarpet\",\"colorbar\":{\"outlinewidth\":0,\"ticks\":\"\"}}],\"contour\":[{\"type\":\"contour\",\"colorbar\":{\"outlinewidth\":0,\"ticks\":\"\"},\"colorscale\":[[0.0,\"#0d0887\"],[0.1111111111111111,\"#46039f\"],[0.2222222222222222,\"#7201a8\"],[0.3333333333333333,\"#9c179e\"],[0.4444444444444444,\"#bd3786\"],[0.5555555555555556,\"#d8576b\"],[0.6666666666666666,\"#ed7953\"],[0.7777777777777778,\"#fb9f3a\"],[0.8888888888888888,\"#fdca26\"],[1.0,\"#f0f921\"]]}],\"surface\":[{\"type\":\"surface\",\"colorbar\":{\"outlinewidth\":0,\"ticks\":\"\"},\"colorscale\":[[0.0,\"#0d0887\"],[0.1111111111111111,\"#46039f\"],[0.2222222222222222,\"#7201a8\"],[0.3333333333333333,\"#9c179e\"],[0.4444444444444444,\"#bd3786\"],[0.5555555555555556,\"#d8576b\"],[0.6666666666666666,\"#ed7953\"],[0.7777777777777778,\"#fb9f3a\"],[0.8888888888888888,\"#fdca26\"],[1.0,\"#f0f921\"]]}],\"mesh3d\":[{\"type\":\"mesh3d\",\"colorbar\":{\"outlinewidth\":0,\"ticks\":\"\"}}],\"scatter\":[{\"fillpattern\":{\"fillmode\":\"overlay\",\"size\":10,\"solidity\":0.2},\"type\":\"scatter\"}],\"parcoords\":[{\"type\":\"parcoords\",\"line\":{\"colorbar\":{\"outlinewidth\":0,\"ticks\":\"\"}}}],\"scatterpolargl\":[{\"type\":\"scatterpolargl\",\"marker\":{\"colorbar\":{\"outlinewidth\":0,\"ticks\":\"\"}}}],\"bar\":[{\"error_x\":{\"color\":\"#2a3f5f\"},\"error_y\":{\"color\":\"#2a3f5f\"},\"marker\":{\"line\":{\"color\":\"#E5ECF6\",\"width\":0.5},\"pattern\":{\"fillmode\":\"overlay\",\"size\":10,\"solidity\":0.2}},\"type\":\"bar\"}],\"scattergeo\":[{\"type\":\"scattergeo\",\"marker\":{\"colorbar\":{\"outlinewidth\":0,\"ticks\":\"\"}}}],\"scatterpolar\":[{\"type\":\"scatterpolar\",\"marker\":{\"colorbar\":{\"outlinewidth\":0,\"ticks\":\"\"}}}],\"histogram\":[{\"marker\":{\"pattern\":{\"fillmode\":\"overlay\",\"size\":10,\"solidity\":0.2}},\"type\":\"histogram\"}],\"scattergl\":[{\"type\":\"scattergl\",\"marker\":{\"colorbar\":{\"outlinewidth\":0,\"ticks\":\"\"}}}],\"scatter3d\":[{\"type\":\"scatter3d\",\"line\":{\"colorbar\":{\"outlinewidth\":0,\"ticks\":\"\"}},\"marker\":{\"colorbar\":{\"outlinewidth\":0,\"ticks\":\"\"}}}],\"scattermapbox\":[{\"type\":\"scattermapbox\",\"marker\":{\"colorbar\":{\"outlinewidth\":0,\"ticks\":\"\"}}}],\"scatterternary\":[{\"type\":\"scatterternary\",\"marker\":{\"colorbar\":{\"outlinewidth\":0,\"ticks\":\"\"}}}],\"scattercarpet\":[{\"type\":\"scattercarpet\",\"marker\":{\"colorbar\":{\"outlinewidth\":0,\"ticks\":\"\"}}}],\"carpet\":[{\"aaxis\":{\"endlinecolor\":\"#2a3f5f\",\"gridcolor\":\"white\",\"linecolor\":\"white\",\"minorgridcolor\":\"white\",\"startlinecolor\":\"#2a3f5f\"},\"baxis\":{\"endlinecolor\":\"#2a3f5f\",\"gridcolor\":\"white\",\"linecolor\":\"white\",\"minorgridcolor\":\"white\",\"startlinecolor\":\"#2a3f5f\"},\"type\":\"carpet\"}],\"table\":[{\"cells\":{\"fill\":{\"color\":\"#EBF0F8\"},\"line\":{\"color\":\"white\"}},\"header\":{\"fill\":{\"color\":\"#C8D4E3\"},\"line\":{\"color\":\"white\"}},\"type\":\"table\"}],\"barpolar\":[{\"marker\":{\"line\":{\"color\":\"#E5ECF6\",\"width\":0.5},\"pattern\":{\"fillmode\":\"overlay\",\"size\":10,\"solidity\":0.2}},\"type\":\"barpolar\"}],\"pie\":[{\"automargin\":true,\"type\":\"pie\"}]},\"layout\":{\"autotypenumbers\":\"strict\",\"colorway\":[\"#636efa\",\"#EF553B\",\"#00cc96\",\"#ab63fa\",\"#FFA15A\",\"#19d3f3\",\"#FF6692\",\"#B6E880\",\"#FF97FF\",\"#FECB52\"],\"font\":{\"color\":\"#2a3f5f\"},\"hovermode\":\"closest\",\"hoverlabel\":{\"align\":\"left\"},\"paper_bgcolor\":\"white\",\"plot_bgcolor\":\"#E5ECF6\",\"polar\":{\"bgcolor\":\"#E5ECF6\",\"angularaxis\":{\"gridcolor\":\"white\",\"linecolor\":\"white\",\"ticks\":\"\"},\"radialaxis\":{\"gridcolor\":\"white\",\"linecolor\":\"white\",\"ticks\":\"\"}},\"ternary\":{\"bgcolor\":\"#E5ECF6\",\"aaxis\":{\"gridcolor\":\"white\",\"linecolor\":\"white\",\"ticks\":\"\"},\"baxis\":{\"gridcolor\":\"white\",\"linecolor\":\"white\",\"ticks\":\"\"},\"caxis\":{\"gridcolor\":\"white\",\"linecolor\":\"white\",\"ticks\":\"\"}},\"coloraxis\":{\"colorbar\":{\"outlinewidth\":0,\"ticks\":\"\"}},\"colorscale\":{\"sequential\":[[0.0,\"#0d0887\"],[0.1111111111111111,\"#46039f\"],[0.2222222222222222,\"#7201a8\"],[0.3333333333333333,\"#9c179e\"],[0.4444444444444444,\"#bd3786\"],[0.5555555555555556,\"#d8576b\"],[0.6666666666666666,\"#ed7953\"],[0.7777777777777778,\"#fb9f3a\"],[0.8888888888888888,\"#fdca26\"],[1.0,\"#f0f921\"]],\"sequentialminus\":[[0.0,\"#0d0887\"],[0.1111111111111111,\"#46039f\"],[0.2222222222222222,\"#7201a8\"],[0.3333333333333333,\"#9c179e\"],[0.4444444444444444,\"#bd3786\"],[0.5555555555555556,\"#d8576b\"],[0.6666666666666666,\"#ed7953\"],[0.7777777777777778,\"#fb9f3a\"],[0.8888888888888888,\"#fdca26\"],[1.0,\"#f0f921\"]],\"diverging\":[[0,\"#8e0152\"],[0.1,\"#c51b7d\"],[0.2,\"#de77ae\"],[0.3,\"#f1b6da\"],[0.4,\"#fde0ef\"],[0.5,\"#f7f7f7\"],[0.6,\"#e6f5d0\"],[0.7,\"#b8e186\"],[0.8,\"#7fbc41\"],[0.9,\"#4d9221\"],[1,\"#276419\"]]},\"xaxis\":{\"gridcolor\":\"white\",\"linecolor\":\"white\",\"ticks\":\"\",\"title\":{\"standoff\":15},\"zerolinecolor\":\"white\",\"automargin\":true,\"zerolinewidth\":2},\"yaxis\":{\"gridcolor\":\"white\",\"linecolor\":\"white\",\"ticks\":\"\",\"title\":{\"standoff\":15},\"zerolinecolor\":\"white\",\"automargin\":true,\"zerolinewidth\":2},\"scene\":{\"xaxis\":{\"backgroundcolor\":\"#E5ECF6\",\"gridcolor\":\"white\",\"linecolor\":\"white\",\"showbackground\":true,\"ticks\":\"\",\"zerolinecolor\":\"white\",\"gridwidth\":2},\"yaxis\":{\"backgroundcolor\":\"#E5ECF6\",\"gridcolor\":\"white\",\"linecolor\":\"white\",\"showbackground\":true,\"ticks\":\"\",\"zerolinecolor\":\"white\",\"gridwidth\":2},\"zaxis\":{\"backgroundcolor\":\"#E5ECF6\",\"gridcolor\":\"white\",\"linecolor\":\"white\",\"showbackground\":true,\"ticks\":\"\",\"zerolinecolor\":\"white\",\"gridwidth\":2}},\"shapedefaults\":{\"line\":{\"color\":\"#2a3f5f\"}},\"annotationdefaults\":{\"arrowcolor\":\"#2a3f5f\",\"arrowhead\":0,\"arrowwidth\":1},\"geo\":{\"bgcolor\":\"white\",\"landcolor\":\"#E5ECF6\",\"subunitcolor\":\"white\",\"showland\":true,\"showlakes\":true,\"lakecolor\":\"white\"},\"title\":{\"x\":0.05},\"mapbox\":{\"style\":\"light\"}}},\"xaxis\":{\"anchor\":\"y\",\"domain\":[0.0,0.45],\"title\":{\"text\":\"percentile\"}},\"yaxis\":{\"anchor\":\"x\",\"domain\":[0.0,1.0],\"title\":{\"text\":\"Objective Value\"}},\"xaxis2\":{\"anchor\":\"y2\",\"domain\":[0.55,1.0],\"title\":{\"text\":\"weights\"}},\"yaxis2\":{\"anchor\":\"x2\",\"domain\":[0.0,1.0],\"matches\":\"y\",\"showticklabels\":false},\"title\":{\"text\":\"Slice Plot\"}},                        {\"responsive\": true}                    ).then(function(){\n",
              "                            \n",
              "var gd = document.getElementById('bf4fa809-a5eb-4644-8bfb-f1f3acb0bc5b');\n",
              "var x = new MutationObserver(function (mutations, observer) {{\n",
              "        var display = window.getComputedStyle(gd).display;\n",
              "        if (!display || display === 'none') {{\n",
              "            console.log([gd, 'removed!']);\n",
              "            Plotly.purge(gd);\n",
              "            observer.disconnect();\n",
              "        }}\n",
              "}});\n",
              "\n",
              "// Listen for the removal of the full notebook cells\n",
              "var notebookContainer = gd.closest('#notebook-container');\n",
              "if (notebookContainer) {{\n",
              "    x.observe(notebookContainer, {childList: true});\n",
              "}}\n",
              "\n",
              "// Listen for the clearing of the current output cell\n",
              "var outputEl = gd.closest('.output');\n",
              "if (outputEl) {{\n",
              "    x.observe(outputEl, {childList: true});\n",
              "}}\n",
              "\n",
              "                        })                };                            </script>        </div>\n",
              "</body>\n",
              "</html>"
            ]
          },
          "metadata": {}
        }
      ]
    }
  ]
}